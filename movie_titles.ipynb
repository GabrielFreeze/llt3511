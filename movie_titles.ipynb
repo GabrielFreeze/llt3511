{
 "cells": [
  {
   "cell_type": "code",
   "execution_count": 1,
   "id": "2bd37655",
   "metadata": {
    "ExecuteTime": {
     "end_time": "2022-12-12T14:06:25.863186Z",
     "start_time": "2022-12-12T14:06:25.848186Z"
    }
   },
   "outputs": [
    {
     "data": {
      "text/html": [
       "<style type='text/css'>\n",
       ".CodeMirror{\n",
       "font-family: JetBrains Mono;\n",
       "</style>\n"
      ],
      "text/plain": [
       "<IPython.core.display.HTML object>"
      ]
     },
     "metadata": {},
     "output_type": "display_data"
    }
   ],
   "source": [
    "%%html\n",
    "<style type='text/css'>\n",
    ".CodeMirror{\n",
    "font-family: JetBrains Mono;\n",
    "</style>"
   ]
  },
  {
   "cell_type": "code",
   "execution_count": 2,
   "id": "9c304f50",
   "metadata": {
    "ExecuteTime": {
     "end_time": "2022-12-12T14:06:28.512390Z",
     "start_time": "2022-12-12T14:06:26.846289Z"
    }
   },
   "outputs": [],
   "source": [
    "# Suggested imports. Do not use import any modules that are not in the requirements.txt file on the VLE.\n",
    "\n",
    "import sklearn.metrics\n",
    "import sklearn.model_selection\n",
    "import matplotlib.pyplot as plt\n",
    "import random\n",
    "import collections\n",
    "import torch\n",
    "import pandas as pd\n",
    "import numpy as np\n",
    "%matplotlib inline\n",
    "\n",
    "\n",
    "device = 'cuda:0' if torch.cuda.is_available() else 'cpu'\n",
    "# device = 'cpu'"
   ]
  },
  {
   "cell_type": "markdown",
   "id": "fc98e8ff",
   "metadata": {},
   "source": [
    "# Movie titles assignment\n",
    "\n",
    "Table of contents:\n",
    "\n",
    "* [Data filtering and splitting (10%)](#Data-filtering-and-splitting-(10%))\n",
    "* [Title classification (25%)](#Title-classification-(25%))\n",
    "* [Title generation (25%)](#Title-generation-(25%))\n",
    "* [Language models as classifiers (30%)](#Language-models-as-classifiers-(30%))\n",
    "* [Conclusion (10%)](#Conclusion-(10%))\n",
    "\n",
    "Information:\n",
    "\n",
    "This assignment is 100% of your assessment.\n",
    "You are to follow the instructions below and fill each cell as instructed.\n",
    "Once ready, submit this notebook on VLE with all the outputs included (run all your code and don't clear any output cells).\n",
    "Do not submit anything else apart from the notebook and do not use any extra data apart from what is requested."
   ]
  },
  {
   "cell_type": "markdown",
   "id": "98ab5373",
   "metadata": {},
   "source": [
    "## Introduction\n",
    "\n",
    "A big shot Hollywood producer is looking for a way to automatically generate new movie titles for future movies and you have been employed to do this (in exchange for millions of dollars!).\n",
    "A data set of movie details has already been collected from IMDb for you and your task is to create the model and the algorithms necessary to use it."
   ]
  },
  {
   "cell_type": "markdown",
   "id": "80bb2f45",
   "metadata": {},
   "source": [
    "## Data filtering and splitting (10%)\n",
    "\n",
    "Start by downloading the CSV file `filmtv_movies - ENG.csv` from [this kaggle data set](https://www.kaggle.com/datasets/stefanoleone992/filmtv-movies-dataset).\n",
    "\n",
    "The CSV file needs to be filtered as the producer is only interested in certain types of movie titles.\n",
    "Load the file and filter it so that only movies with the following criteria are kept:\n",
    "\n",
    "* The country needs to be `United States` (and no other country should be mentioned).\n",
    "* The genre should be `Action`, `Horror`, `Fantasy`, `Western`, and `Adventure`.\n",
    "* The title should not have more than 20 characters."
   ]
  },
  {
   "cell_type": "code",
   "execution_count": 3,
   "id": "1c2a2e96",
   "metadata": {
    "ExecuteTime": {
     "end_time": "2022-12-12T14:06:29.043510Z",
     "start_time": "2022-12-12T14:06:28.668266Z"
    }
   },
   "outputs": [
    {
     "data": {
      "text/html": [
       "<div>\n",
       "<style scoped>\n",
       "    .dataframe tbody tr th:only-of-type {\n",
       "        vertical-align: middle;\n",
       "    }\n",
       "\n",
       "    .dataframe tbody tr th {\n",
       "        vertical-align: top;\n",
       "    }\n",
       "\n",
       "    .dataframe thead th {\n",
       "        text-align: right;\n",
       "    }\n",
       "</style>\n",
       "<table border=\"1\" class=\"dataframe\">\n",
       "  <thead>\n",
       "    <tr style=\"text-align: right;\">\n",
       "      <th></th>\n",
       "      <th>title</th>\n",
       "      <th>genre</th>\n",
       "    </tr>\n",
       "  </thead>\n",
       "  <tbody>\n",
       "    <tr>\n",
       "      <th>3755</th>\n",
       "      <td>tales of terror</td>\n",
       "      <td>Horror</td>\n",
       "    </tr>\n",
       "    <tr>\n",
       "      <th>15320</th>\n",
       "      <td>princess of thieves</td>\n",
       "      <td>Adventure</td>\n",
       "    </tr>\n",
       "    <tr>\n",
       "      <th>30987</th>\n",
       "      <td>the gallows</td>\n",
       "      <td>Horror</td>\n",
       "    </tr>\n",
       "    <tr>\n",
       "      <th>25192</th>\n",
       "      <td>hydra</td>\n",
       "      <td>Fantasy</td>\n",
       "    </tr>\n",
       "    <tr>\n",
       "      <th>17806</th>\n",
       "      <td>war of the worlds</td>\n",
       "      <td>Fantasy</td>\n",
       "    </tr>\n",
       "    <tr>\n",
       "      <th>...</th>\n",
       "      <td>...</td>\n",
       "      <td>...</td>\n",
       "    </tr>\n",
       "    <tr>\n",
       "      <th>3682</th>\n",
       "      <td>forty guns</td>\n",
       "      <td>Western</td>\n",
       "    </tr>\n",
       "    <tr>\n",
       "      <th>29596</th>\n",
       "      <td>midnight chronicles</td>\n",
       "      <td>Action</td>\n",
       "    </tr>\n",
       "    <tr>\n",
       "      <th>30228</th>\n",
       "      <td>insidious: chapter 3</td>\n",
       "      <td>Horror</td>\n",
       "    </tr>\n",
       "    <tr>\n",
       "      <th>3435</th>\n",
       "      <td>little big man</td>\n",
       "      <td>Western</td>\n",
       "    </tr>\n",
       "    <tr>\n",
       "      <th>1215</th>\n",
       "      <td>rope of sand</td>\n",
       "      <td>Adventure</td>\n",
       "    </tr>\n",
       "  </tbody>\n",
       "</table>\n",
       "<p>3249 rows × 2 columns</p>\n",
       "</div>"
      ],
      "text/plain": [
       "                      title      genre\n",
       "3755        tales of terror     Horror\n",
       "15320   princess of thieves  Adventure\n",
       "30987           the gallows     Horror\n",
       "25192                 hydra    Fantasy\n",
       "17806     war of the worlds    Fantasy\n",
       "...                     ...        ...\n",
       "3682             forty guns    Western\n",
       "29596   midnight chronicles     Action\n",
       "30228  insidious: chapter 3     Horror\n",
       "3435         little big man    Western\n",
       "1215           rope of sand  Adventure\n",
       "\n",
       "[3249 rows x 2 columns]"
      ]
     },
     "execution_count": 3,
     "metadata": {},
     "output_type": "execute_result"
    }
   ],
   "source": [
    "df = pd.read_csv('data.csv')  #Load full csv\n",
    "df = df[df['country'] == 'United States'] #Country == United States\n",
    "df = df[df['genre'].isin(['Action','Horror','Fantasy','Western','Adventure'])] #Filter genre\n",
    "df = df[df['title'].str.len() < 21] # Title does not have more than 20 characters\n",
    "df['title'] = df['title'].apply(lambda s: s.lower()) #Set all titles to lowercase\n",
    "df = df[['title','genre']] # Only title and genre columns are needed\n",
    "\n",
    "\n",
    "df = df.sample(frac=1) #Shuffle dataset\n",
    "df.to_csv('filtered_data.csv', index=False)\n",
    "df"
   ]
  },
  {
   "cell_type": "markdown",
   "id": "448acbaa",
   "metadata": {},
   "source": [
    "Split the filtered data into 80% train, 10% validation, and 10% test.\n",
    "You will only need the title and genre columns."
   ]
  },
  {
   "cell_type": "code",
   "execution_count": 4,
   "id": "ec1fca47",
   "metadata": {
    "ExecuteTime": {
     "end_time": "2022-12-12T14:06:31.011328Z",
     "start_time": "2022-12-12T14:06:31.001327Z"
    }
   },
   "outputs": [],
   "source": [
    "#df = pd.read_csv('filtered_data.csv')\n",
    "\n",
    "#Train = 80%, Other = 20%\n",
    "train_x, other_x, train_y, other_y = sklearn.model_selection.train_test_split(df['title'],df['genre'],\n",
    "                                                             test_size=0.2, random_state=1)\n",
    "\n",
    "\n",
    "#Split other in half -> [Train = 80%, Val = 10%, Test = 10%]\n",
    "val_x, test_x, val_y, test_y = sklearn.model_selection.train_test_split(other_x, other_y,\n",
    "                                                       test_size=0.5, random_state=1)\n",
    "\n"
   ]
  },
  {
   "cell_type": "markdown",
   "id": "304d5332",
   "metadata": {},
   "source": [
    "From your processed data set, display:\n",
    "\n",
    "* the amount of movies in each genre and split\n",
    "* 5 examples of movie titles from each genre and split"
   ]
  },
  {
   "cell_type": "code",
   "execution_count": 5,
   "id": "c5e8adf7",
   "metadata": {
    "ExecuteTime": {
     "end_time": "2022-12-12T12:54:34.338104Z",
     "start_time": "2022-12-12T12:54:34.329103Z"
    },
    "collapsed": true
   },
   "outputs": [
    {
     "name": "stdout",
     "output_type": "stream",
     "text": [
      "Amount of Movies in Training Set:\n",
      "Action       705\n",
      "Horror       672\n",
      "Fantasy      438\n",
      "Western      409\n",
      "Adventure    375\n",
      "Name: genre, dtype: int64\n",
      "\n",
      "Amount of Movies in Validation Set:\n",
      "Action       86\n",
      "Horror       73\n",
      "Western      70\n",
      "Fantasy      59\n",
      "Adventure    37\n",
      "Name: genre, dtype: int64\n",
      "\n",
      "Amount of Movies in Testing Set:\n",
      "Action       97\n",
      "Horror       73\n",
      "Western      58\n",
      "Adventure    52\n",
      "Fantasy      45\n",
      "Name: genre, dtype: int64\n"
     ]
    }
   ],
   "source": [
    "print('Amount of Movies in Training Set:')\n",
    "print(train_y.value_counts())\n",
    "\n",
    "print('\\nAmount of Movies in Validation Set:')\n",
    "print(val_y.value_counts())\n",
    "\n",
    "print('\\nAmount of Movies in Testing Set:')\n",
    "print(test_y.value_counts())"
   ]
  },
  {
   "cell_type": "code",
   "execution_count": 6,
   "id": "4984a2d2",
   "metadata": {
    "ExecuteTime": {
     "end_time": "2022-12-12T12:54:36.243614Z",
     "start_time": "2022-12-12T12:54:36.217617Z"
    },
    "collapsed": true
   },
   "outputs": [
    {
     "name": "stdout",
     "output_type": "stream",
     "text": [
      "5 Random Action movies from each split:\n",
      "Train:[\"assassin's bullet\", 'vfw', 'wanted', 'urgency', 'masterminds']\n",
      "\n",
      "Validate:['deep impact', 'the lone ranger', 'reprisal', 'maximum risk', 'quick change']\n",
      "\n",
      "Test:['mongolian death worm', 'mega piranha', 'ink', 'final descent', 'top of the world']\n",
      "\n",
      "\n",
      "\n",
      "=================================\n",
      "\n",
      "5 Random Horror movies from each split:\n",
      "Train:['the exorcist iii', 'the quiet ones', 'insidious: chapter 3', '13 sins', 'devil']\n",
      "\n",
      "Validate:['gacy', 'hostel: part ii', 'empire of the ants', 'disturbing behaviour', 'it']\n",
      "\n",
      "Test:['dead season', \"satan's cheerleaders\", 'the green inferno', 'prime evil', 'rattlesnake']\n",
      "\n",
      "\n",
      "\n",
      "=================================\n",
      "\n",
      "5 Random Fantasy movies from each split:\n",
      "Train:['conan the destroyer', 'bicentennial man', 'fantastic voyage', '40 days and nights', 'the final countdown']\n",
      "\n",
      "Validate:['dna', 'innerspace', 'time cop', 'legion', 'eve of destruction']\n",
      "\n",
      "Test:['air', 'mars attacks!', 'prometheus', 'sabrina, down under', 'i am legend']\n",
      "\n",
      "\n",
      "\n",
      "=================================\n",
      "\n",
      "5 Random Western movies from each split:\n",
      "Train:['red sundown', 'kansas pacific ', 'the covered wagon', 'reprisal!', 'chief crazy horse']\n",
      "\n",
      "Validate:['the lawless nineties', 'man from del rio', 'westward the women', 'west of the pecos', 'hard bounty']\n",
      "\n",
      "Test:['a day of fury', 'the avenging angel', 'only the valiant', 'blood on the moon', 'town tamer']\n",
      "\n",
      "\n",
      "\n",
      "=================================\n",
      "\n",
      "5 Random Adventure movies from each split:\n",
      "Train:['lancer spy', 'fire down below', 'yellowbeard', 'mutiny', 'airborne']\n",
      "\n",
      "Validate:['call of the wild', 'princess caraboo', 'watusi', 'king kong', 'the lost city of z']\n",
      "\n",
      "Test:['hell camp', 'escape from zahrain', 'the spanish main', 'k 2', 'zits']\n",
      "\n",
      "\n",
      "\n",
      "=================================\n",
      "\n"
     ]
    }
   ],
   "source": [
    "train = pd.DataFrame(columns=['title'], data=train_x)\n",
    "train['genre'] = train_y\n",
    "\n",
    "val = pd.DataFrame(columns=['title'], data=val_x)\n",
    "val['genre'] = val_y\n",
    "\n",
    "test = pd.DataFrame(columns=['title'], data=test_x)\n",
    "test['genre'] = test_y\n",
    "\n",
    "for genre in ['Action','Horror','Fantasy','Western','Adventure']:  \n",
    "    print(f'5 Random {genre} movies from each split:')\n",
    "    \n",
    "    print(f\"Train:{list(train[train['genre']==genre]['title'].sample(n=5).apply(lambda s: ''.join(s)))}\\n\")\n",
    "    print(f\"Validate:{list(val[val['genre']==genre]['title'].sample(n=5).apply(lambda s: ''.join(s)))}\\n\")    \n",
    "    print(f\"Test:{list(test[test['genre']==genre]['title'].sample(n=5).apply(lambda s: ''.join(s)))}\\n\")\n",
    "    \n",
    "    print('\\n\\n=================================\\n')\n",
    "    "
   ]
  },
  {
   "cell_type": "markdown",
   "id": "8c1240be",
   "metadata": {},
   "source": [
    "## Title classification (25%)\n",
    "\n",
    "Your first task is to prove that a neural network can identify the genre of a movie based on its title.\n",
    "\n",
    "You will note that many titles are just a single word or two words long so you need to work at the character level instead of the word level, that is, a token would be a single character, including punctuation marks and spaces.\n",
    "You must also lowercase the titles.\n",
    "Preprocess the data sets, create a neural network, and train it to classify the movie titles into their genre.\n",
    "Plot a graph of the **accuracy** of the model on the train and validation sets after each epoch."
   ]
  },
  {
   "cell_type": "code",
   "execution_count": 5,
   "id": "95ac75bd",
   "metadata": {
    "ExecuteTime": {
     "end_time": "2022-12-12T13:40:39.416131Z",
     "start_time": "2022-12-12T13:40:37.723810Z"
    },
    "scrolled": false
   },
   "outputs": [],
   "source": [
    "# Tokenise each character.\n",
    "train_x = train_x.apply(lambda s: [*s])\n",
    "val_x = val_x.apply(lambda s: [*s])\n",
    "test_x = test_x.apply(lambda s: [*s])\n",
    "\n",
    "# Get the lengths of each title.\n",
    "train_lens_x = torch.tensor([len(title) for title in train_x],\n",
    "                            dtype=torch.int64, device=device)\n",
    "val_lens_x = torch.tensor([len(title) for title in val_x],\n",
    "                          dtype=torch.int64, device=device)\n",
    "test_lens_x = torch.tensor([len(title) for title in test_x],\n",
    "                           dtype=torch.int64, device=device)\n",
    "\n",
    "# Get the maximum length of a title.\n",
    "train_max_len = max(train_lens_x)\n",
    "val_max_len = max(val_lens_x)\n",
    "test_max_len = max(test_lens_x)\n",
    "\n",
    "# Create the vocabulary on the training set\n",
    "# And Replace characters that appear less than 3 times with <UNK>\n",
    "freq = collections.Counter(token for title in train_x for token in title)\n",
    "vocab = ['<PAD>'] + sorted([token if freq[token] >\n",
    "                           3 else '<UNK>' for token in freq.keys()])\n",
    "\n",
    "#Return <UNK> index if the token is not in the vocabulary\n",
    "v_idx = lambda t: vocab.index(['<UNK>',t][t in vocab])\n",
    "\n",
    "# Pad the titles to max_len characters using <PAD> tokens.\n",
    "padded_train_x = [sent + ['<PAD>'] *\n",
    "                  (train_max_len - len(sent)) for sent in train_x]\n",
    "padded_val_x = [sent + ['<PAD>']*(val_max_len - len(sent)) for sent in val_x]\n",
    "padded_test_x = [sent + ['<PAD>'] *\n",
    "                 (test_max_len - len(sent)) for sent in test_x]\n",
    "\n",
    "# Replace each character with its index in the vocabulary.\n",
    "indexed_train_x = torch.tensor([[v_idx(token) for token in title]\n",
    "                               for title in padded_train_x],\n",
    "                               dtype=torch.int64, device=device)\n",
    "indexed_val_x   = torch.tensor([[v_idx(token) for token in title]\n",
    "                               for title in padded_val_x],\n",
    "                               dtype=torch.int64, device=device)\n",
    "indexed_test_x  = torch.tensor([[v_idx(token) for token in title]\n",
    "                                for title in padded_test_x],\n",
    "                               dtype=torch.int64, device=device)\n",
    "\n",
    "\n",
    "categories = ['Action', 'Horror', 'Fantasy', 'Western', 'Adventure']\n",
    "cat2idx = {cat: i for (i, cat) in enumerate(categories)}\n",
    "\n",
    "\n",
    "# One-hot Encoded train_y\n",
    "indexed_train_y = torch.tensor(train_y.map(cat2idx.get).to_numpy()[:, None],\n",
    "                               dtype=torch.int64, device=device)\n",
    "\n",
    "encoded_train_y = torch.nn.functional.one_hot(\n",
    "    indexed_train_y[:, 0], num_classes=5).float()\n",
    "\n",
    "# One-hot Encoded val_y\n",
    "indexed_val_y = torch.tensor(val_y.map(cat2idx.get).to_numpy()[:, None],\n",
    "                             dtype=torch.int64, device=device)\n",
    "encoded_val_y = torch.nn.functional.one_hot(\n",
    "    indexed_val_y[:, 0], num_classes=5).float()\n",
    "\n",
    "# One-hot Encoded test_y\n",
    "indexed_test_y = torch.tensor(test_y.map(cat2idx.get).to_numpy()[:, None],\n",
    "                              dtype=torch.int64, device=device)\n",
    "encoded_test_y = torch.nn.functional.one_hot(\n",
    "    indexed_test_y[:, 0], num_classes=5).float()"
   ]
  },
  {
   "cell_type": "code",
   "execution_count": 25,
   "id": "24bf938d",
   "metadata": {
    "ExecuteTime": {
     "end_time": "2022-12-12T13:58:49.638712Z",
     "start_time": "2022-12-12T13:58:49.617680Z"
    },
    "code_folding": []
   },
   "outputs": [],
   "source": [
    "class Model(torch.nn.Module):\n",
    "\n",
    "    def __init__(self, vocab_size, embedding_size, hidden_size, num_classes):\n",
    "        super().__init__()\n",
    "        self.hidden_size = hidden_size\n",
    "        self.embedding_layer = torch.nn.Embedding(vocab_size, embedding_size)\n",
    "\n",
    "        self.rnn_s0 = torch.nn.Parameter(\n",
    "            torch.zeros((hidden_size,), dtype=torch.float32))\n",
    "        self.rnn_c0 = torch.nn.Parameter(\n",
    "            torch.zeros((hidden_size,), dtype=torch.float32))\n",
    "        self.rnn_cell = torch.nn.LSTMCell(\n",
    "            embedding_size, hidden_size, device=device)\n",
    "        self.output_layer = torch.nn.Linear(hidden_size, num_classes)\n",
    "\n",
    "    def forward(self, x, text_lens):\n",
    "        batch_size = x.shape[0]  # Number of Titles\n",
    "        time_steps = x.shape[1]  # Number of Characters (20)\n",
    "\n",
    "        embedded = self.embedding_layer(x)\n",
    "        state = self.rnn_s0.unsqueeze(0).tile((batch_size, 1))\n",
    "        c = self.rnn_c0.unsqueeze(0).tile((batch_size, 1))\n",
    "\n",
    "        for t in range(time_steps):\n",
    "            mask = (t < text_lens).unsqueeze(1).tile((1, self.hidden_size))\n",
    "            (next_state, c) = self.rnn_cell(embedded[:, t, :], (state, c))\n",
    "            state = torch.where(mask, next_state, state)\n",
    "\n",
    "        return self.output_layer(state)"
   ]
  },
  {
   "cell_type": "code",
   "execution_count": 26,
   "id": "964a4cf6",
   "metadata": {
    "ExecuteTime": {
     "end_time": "2022-12-12T13:59:42.214222Z",
     "start_time": "2022-12-12T13:58:50.705813Z"
    },
    "code_folding": []
   },
   "outputs": [
    {
     "name": "stdout",
     "output_type": "stream",
     "text": [
      "step error\n",
      "999\r"
     ]
    }
   ],
   "source": [
    "model = Model(len(vocab), embedding_size=256,\n",
    "              hidden_size=256, num_classes=len(categories))\n",
    "model.to(device)\n",
    "\n",
    "optimiser = torch.optim.AdamW(model.parameters())\n",
    "\n",
    "print('step', 'error')\n",
    "history = []\n",
    "\n",
    "for step in range(1, 1000):\n",
    "    optimiser.zero_grad()\n",
    "    output = model(indexed_train_x, train_lens_x)\n",
    "    error = torch.nn.functional.cross_entropy(\n",
    "        output, indexed_train_y.squeeze(1)) \n",
    "    error.backward()\n",
    "    optimiser.step()\n",
    "\n",
    "    print(step, end='\\r')\n",
    "    # Calculate accuracy after every epoch\n",
    "    with torch.no_grad():\n",
    "        prediction = model(indexed_val_x, val_lens_x).argmax(axis=1).cpu()\n",
    "        actual = indexed_val_y.squeeze(1).cpu()\n",
    "\n",
    "        val_accuracy = sklearn.metrics.accuracy_score(prediction, actual)\n",
    "        train_accuracy = sklearn.metrics.accuracy_score(\n",
    "            output.argmax(axis=1).cpu(), indexed_train_y.squeeze(1).cpu())\n",
    "\n",
    "    # Track accuracy over time\n",
    "    history.append(\n",
    "        (step, train_accuracy, val_accuracy))\n",
    "\n",
    "#     print(step, round(train_accuracy,4),round(val_accuracy,4))"
   ]
  },
  {
   "cell_type": "code",
   "execution_count": 27,
   "id": "18468b13",
   "metadata": {
    "ExecuteTime": {
     "end_time": "2022-12-12T14:01:51.288405Z",
     "start_time": "2022-12-12T14:01:51.108382Z"
    }
   },
   "outputs": [
    {
     "data": {
      "image/png": "[encoded data removed]",
      "text/plain": [
       "<Figure size 640x480 with 1 Axes>"
      ]
     },
     "metadata": {},
     "output_type": "display_data"
    }
   ],
   "source": [
    "import seaborn as sns\n",
    "\n",
    "\n",
    "history = pd.DataFrame(\n",
    "    history, columns=['Epoch', 'Train Accuracy', 'Validation Accuracy'])\n",
    "\n",
    "\n",
    "(fig, ax) = plt.subplots(1, 1)\n",
    "ax.set_xlabel('Epoch')\n",
    "ax.set_ylabel('$Accuracy$')\n",
    "sns.lineplot(data=history, x='Epoch', y='Train Accuracy',ax=ax)\n",
    "sns.lineplot(data=history, x='Epoch', y='Validation Accuracy' ,ax=ax)\n",
    "\n",
    "\n",
    "plt.show()"
   ]
  },
  {
   "cell_type": "code",
   "execution_count": 28,
   "id": "70635d74",
   "metadata": {
    "ExecuteTime": {
     "end_time": "2022-12-12T14:01:54.390596Z",
     "start_time": "2022-12-12T14:01:54.119569Z"
    }
   },
   "outputs": [
    {
     "name": "stdout",
     "output_type": "stream",
     "text": [
      "Accuracy:\t0.375\n",
      "Precision:\t0.355\n",
      "Recall:  \t0.363\n",
      "F1 Score:\t0.357\n",
      "\n"
     ]
    },
    {
     "data": {
      "image/png": "[encoded data removed]",
      "text/plain": [
       "<Figure size 640x480 with 2 Axes>"
      ]
     },
     "metadata": {},
     "output_type": "display_data"
    }
   ],
   "source": [
    "with torch.no_grad():\n",
    "    outputs = torch.softmax(\n",
    "        model(indexed_test_x, test_lens_x), dim=1).cpu().numpy().argmax(axis=1)\n",
    "\n",
    "actual    = indexed_test_y.cpu()\n",
    "prediction = outputs\n",
    "    \n",
    "cm = sklearn.metrics.confusion_matrix(actual, outputs)\n",
    "count      = [\"{0:0.0f}\".format(v) for v in cm.flatten()]\n",
    "percentage = [\"{0:.2%}\".format(v) for v in cm.flatten()/np.sum(cm)]\n",
    "labels = np.asarray([f\"{v1}\\n{v2}\" for v1, v2 in\n",
    "          zip(count,percentage)]).reshape(5,5)\n",
    "\n",
    "sns.heatmap(cm,fmt='',annot=labels,\n",
    "            xticklabels=cat2idx.keys(),yticklabels=cat2idx.keys())\n",
    "\n",
    "#Generate Accuracy, Precision, Recall, F1 Score   \n",
    "print('Accuracy:\\t%.3f'%  sklearn.metrics.accuracy_score (prediction, actual))\n",
    "print('Precision:\\t%.3f'% sklearn.metrics.precision_score(prediction, actual, average='macro'))\n",
    "print('Recall:  \\t%.3f'%  sklearn.metrics.recall_score   (prediction, actual, average='macro'))\n",
    "print('F1 Score:\\t%.3f'%  sklearn.metrics.f1_score       (prediction, actual, average='macro'))\n",
    "print()"
   ]
  },
  {
   "cell_type": "markdown",
   "id": "f53265d7",
   "metadata": {},
   "source": [
    "Measure the F1 score performance of the model when applied on the test set.\n",
    "Also plot a confusion matrix showing how often each genre is mistaken as another genre."
   ]
  },
  {
   "cell_type": "markdown",
   "id": "885c811f",
   "metadata": {},
   "source": [
    "## Title generation (25%)\n",
    "\n",
    "Now that you've proven that titles and genre are related, make a model that can generate a title given a genre.\n",
    "\n",
    "Again, you need to generate tokens at the character level instead of the word level and the titles must be lowercased.\n",
    "Preprocess the data sets, create a neural network, and train it to generate the movie titles given their genre.\n",
    "Plot a graph of the **perplexity** of the model on the train and validation sets after each epoch."
   ]
  },
  {
   "cell_type": "code",
   "execution_count": 7,
   "id": "89209908",
   "metadata": {
    "ExecuteTime": {
     "end_time": "2022-12-12T14:09:39.142160Z",
     "start_time": "2022-12-12T14:09:37.624024Z"
    },
    "code_folding": []
   },
   "outputs": [],
   "source": [
    "# Get all titles\n",
    "titles = df['title']\n",
    "genres = df['genre']\n",
    "\n",
    "# Tokenise every character\n",
    "titles = titles.apply(lambda s: [*s])\n",
    "\n",
    "# Split into Train (80%), Validate (10%), Test (10%)\n",
    "\n",
    "# Train = 80%, Other = 20%\n",
    "train_titles, other_titles, train_genres, other_genres = \\\n",
    "    sklearn.model_selection.train_test_split(titles, genres,\n",
    "                                             test_size=0.2, random_state=1)\n",
    "\n",
    "# Split Other in half -> [Train = 80%, Val = 10%, Test = 10%]\n",
    "val_titles, test_titles, val_genres, test_genres = \\\n",
    "    sklearn.model_selection.train_test_split(other_titles, other_genres,\n",
    "                                             test_size=0.5, random_state=1)\n",
    "\n",
    "# Get Encoding of genres\n",
    "categories = ['Action', 'Horror', 'Fantasy', 'Western', 'Adventure']\n",
    "cat2idx = {cat: i for (i, cat) in enumerate(categories)}\n",
    "\n",
    "# Train Genres\n",
    "train_genres = torch.tensor(train_genres.map(cat2idx.get).to_numpy()[\n",
    "    :, None], dtype=torch.int64, device=device)\n",
    "train_genres = torch.nn.functional.one_hot(\n",
    "    train_genres[:, 0], num_classes=5).float()\n",
    "\n",
    "# Test Genres\n",
    "test_genres = torch.tensor(test_genres.map(cat2idx.get).to_numpy()[\n",
    "    :, None], dtype=torch.int64, device=device)\n",
    "test_genres = torch.nn.functional.one_hot(\n",
    "    test_genres[:, 0], num_classes=5).float()\n",
    "\n",
    "\n",
    "# Validate Genres\n",
    "val_genres = torch.tensor(val_genres.map(cat2idx.get).to_numpy()[\n",
    "    :, None], dtype=torch.int64, device=device)\n",
    "val_genres = torch.nn.functional.one_hot(\n",
    "    val_genres[:, 0], num_classes=5).float()\n",
    "\n",
    "\n",
    "# Get length of every title including the EDGE token\n",
    "train_title_lens = torch.tensor([len(t)+1 for t in train_titles],\n",
    "                                dtype=torch.int64, device=device)\n",
    "val_title_lens = torch.tensor([len(t)+1 for t in val_titles],\n",
    "                              dtype=torch.int64, device=device)\n",
    "test_title_lens = torch.tensor([len(t)+1 for t in test_titles],\n",
    "                               dtype=torch.int64, device=device)\n",
    "\n",
    "# Get maximum length of a title\n",
    "train_max_len = max(train_title_lens)\n",
    "val_max_len = max(val_title_lens)\n",
    "test_max_len = max(test_title_lens)\n",
    "\n",
    "\n",
    "# Create the vocabulary on the training set\n",
    "# And Replace characters that appear less than 3 times with <UNK>\n",
    "freq = collections.Counter(token for title in train_titles for token in title)\n",
    "vocab = ['<PAD>', '<EDGE>'] + \\\n",
    "    sorted([token if freq[token] > 3 else '<UNK>' for token in freq.keys()])\n",
    "\n",
    "# Return <UNK> index if the token is not in the vocabulary\n",
    "\n",
    "\n",
    "def v_idx(t): return vocab.index(['<UNK>', t][t in vocab])\n",
    "\n",
    "\n",
    "\n",
    "# Get train_x\n",
    "padded_train_x = [['<EDGE>']+t+['<PAD>']\n",
    "                  * (train_max_len-len(t)-1) for t in train_titles]\n",
    "indexed_train_x = torch.tensor(\n",
    "    [[v_idx(tok) for tok in t] for t in padded_train_x],\n",
    "    dtype=torch.int64, device=device)\n",
    "\n",
    "# Get train_y\n",
    "padded_train_y = [t+['<EDGE>']+['<PAD>']\n",
    "                  * (train_max_len-len(t) - 1) for t in train_titles]\n",
    "indexed_train_y = torch.tensor(\n",
    "    [[v_idx(tok) for tok in t] for t in padded_train_y],\n",
    "    dtype=torch.int64, device=device)\n",
    "\n",
    "\n",
    "# Get val_x\n",
    "padded_val_x = [['<EDGE>']+t+['<PAD>']\n",
    "                * (val_max_len-len(t)-1) for t in val_titles]\n",
    "indexed_val_x = torch.tensor(\n",
    "    [[v_idx(tok) for tok in t] for t in padded_val_x],\n",
    "    dtype=torch.int64, device=device)\n",
    "\n",
    "# Get val_y\n",
    "padded_val_y = [t+['<EDGE>']+['<PAD>']\n",
    "                * (val_max_len-len(t) - 1) for t in val_titles]\n",
    "indexed_val_y = torch.tensor(\n",
    "    [[v_idx(tok) for tok in t] for t in padded_val_y],\n",
    "    dtype=torch.int64, device=device)\n",
    "\n",
    "\n",
    "# Get test_x\n",
    "padded_test_x = [['<EDGE>']+t+['<PAD>']\n",
    "                 * (val_max_len-len(t)-1) for t in test_titles]\n",
    "indexed_test_x = torch.tensor(\n",
    "    [[v_idx(tok) for tok in t] for t in padded_test_x],\n",
    "    dtype=torch.int64, device=device)\n",
    "\n",
    "# Get test_y\n",
    "padded_test_y = [t+['<EDGE>']+['<PAD>']\n",
    "                 * (test_max_len-len(t) - 1) for t in test_titles]\n",
    "indexed_test_y = torch.tensor(\n",
    "    [[v_idx(tok) for tok in t] for t in padded_test_y],\n",
    "    dtype=torch.int64, device=device)"
   ]
  },
  {
   "cell_type": "code",
   "execution_count": 8,
   "id": "f2aa6465",
   "metadata": {
    "ExecuteTime": {
     "end_time": "2022-12-12T14:09:39.502100Z",
     "start_time": "2022-12-12T14:09:39.482637Z"
    },
    "code_folding": [
     0
    ]
   },
   "outputs": [],
   "source": [
    "class Model(torch.nn.Module):\n",
    "\n",
    "    def __init__(self, cond_size, vocab_size, embedding_size, hidden_size):\n",
    "        super().__init__()\n",
    "\n",
    "        self.embedding_layer = torch.nn.Embedding(vocab_size, embedding_size)\n",
    "        \n",
    "        self.rnn_s0 = torch.nn.Parameter(\n",
    "            torch.zeros((hidden_size,), dtype=torch.float32))\n",
    "        self.rnn_c0 = torch.nn.Parameter(\n",
    "            torch.zeros((hidden_size,), dtype=torch.float32))\n",
    "        self.rnn_cell = torch.nn.LSTMCell(embedding_size, hidden_size)\n",
    "        \n",
    "        self.output_layer = torch.nn.Linear(cond_size+hidden_size, vocab_size)\n",
    "        \n",
    "        \n",
    "    def forward(self, cond, x):\n",
    "        batch_size = x.shape[0]\n",
    "        time_steps = x.shape[1]\n",
    "        \n",
    "        embedded = self.embedding_layer(x)\n",
    "        \n",
    "        state = self.rnn_s0.unsqueeze(0).tile((batch_size,1))\n",
    "        c = self.rnn_s0.unsqueeze(0).tile((batch_size,1)) #ERROR??\n",
    "        interm_states = []\n",
    "        \n",
    "        #Get intermediate states\n",
    "        for t in range(time_steps):\n",
    "            (state,c) = self.rnn_cell(embedded[:,t,:], (state,c))\n",
    "            interm_states.append(state)\n",
    "        interm_states = torch.stack(interm_states, dim=1)\n",
    "        \n",
    "        #Replicate the same conditioning vector for every character\n",
    "        cond_3d = cond.unsqueeze(1).tile((1, time_steps, 1))\n",
    "        \n",
    "        #Attach the replicated conditioning vector to the intermediate states\n",
    "        interm_states = torch.cat((cond_3d, interm_states), dim=2)\n",
    "        \n",
    "        return self.output_layer(interm_states)  "
   ]
  },
  {
   "cell_type": "code",
   "execution_count": 22,
   "id": "9f7c42b9",
   "metadata": {
    "ExecuteTime": {
     "end_time": "2022-12-12T14:18:46.628530Z",
     "start_time": "2022-12-12T14:18:06.185169Z"
    },
    "code_folding": []
   },
   "outputs": [
    {
     "name": "stdout",
     "output_type": "stream",
     "text": [
      "step error\n",
      "1000\n"
     ]
    }
   ],
   "source": [
    "model = Model(train_genres.shape[1], len(vocab),\n",
    "              embedding_size=256, hidden_size=64)\n",
    "model.to(device)\n",
    "\n",
    "optimiser = torch.optim.AdamW(model.parameters())\n",
    "\n",
    "print('step', 'error')\n",
    "train_errors = []\n",
    "batch_size = indexed_train_x.shape[0]\n",
    "time_steps = indexed_train_x.shape[1]\n",
    "\n",
    "mask = torch.zeros((batch_size, time_steps), dtype=torch.bool, device=device)\n",
    "for i in range(batch_size):\n",
    "    for j in range(time_steps):\n",
    "        if j >= train_title_lens[i]:\n",
    "            mask[i, j] = 1\n",
    "\n",
    "perplexity = []\n",
    "\n",
    "for step in range(1, 1_000+1):\n",
    "    optimiser.zero_grad()\n",
    "    output = model(train_genres, indexed_train_x)\n",
    "    errors = torch.nn.functional.cross_entropy(\n",
    "        output.transpose(1, 2), indexed_train_y, reduction='none')\n",
    "    errors = torch.masked_fill(errors, mask, 0.0)\n",
    "    error = errors.sum()/train_title_lens.sum()\n",
    "    error.backward()\n",
    "    optimiser.step()\n",
    "\n",
    "    # Calculate Perplexity\n",
    "\n",
    "    if step % 250 == 0:\n",
    "        with torch.no_grad():\n",
    "\n",
    "            # Train\n",
    "            outputs = torch.log_softmax(output, dim=2)\n",
    "            total_word_log_prob = 0.0\n",
    "            num_words = 0\n",
    "\n",
    "            for (sent, title_len, log_probs, y) in zip(titles, train_title_lens, outputs, indexed_train_y):\n",
    "                word_log_probs = log_probs[torch.arange(\n",
    "                    title_len), y[:title_len]]\n",
    "                total_word_log_prob += word_log_probs.sum().tolist()\n",
    "                num_words += title_len.tolist()\n",
    "\n",
    "            pplx_train = np.exp(-1/num_words*total_word_log_prob)\n",
    "\n",
    "            # Val\n",
    "            outputs = torch.log_softmax(\n",
    "                model(val_genres, indexed_val_x), dim=2)\n",
    "            total_word_log_prob = 0.0\n",
    "            num_words = 0\n",
    "\n",
    "            for (sent, title_len, log_probs, y) in zip(titles, val_title_lens, outputs, indexed_val_y):\n",
    "                word_log_probs = log_probs[torch.arange(\n",
    "                    title_len), y[:title_len]]\n",
    "                total_word_log_prob += word_log_probs.sum().tolist()\n",
    "                num_words += title_len.tolist()\n",
    "\n",
    "            pplx_val = np.exp(-1/num_words*total_word_log_prob)\n",
    "\n",
    "            perplexity.append((step, pplx_train, pplx_val))\n",
    "\n",
    "    print(step, end='\\r')\n",
    "\n",
    "    if step % 2_000 == 0:\n",
    "        print(step, error.tolist(), end='\\r')\n",
    "print()"
   ]
  },
  {
   "cell_type": "code",
   "execution_count": 23,
   "id": "533a82bc",
   "metadata": {
    "ExecuteTime": {
     "end_time": "2022-12-12T14:18:46.769885Z",
     "start_time": "2022-12-12T14:18:46.629532Z"
    },
    "code_folding": []
   },
   "outputs": [
    {
     "data": {
      "image/png": "[encoded data removed]",
      "text/plain": [
       "<Figure size 640x480 with 1 Axes>"
      ]
     },
     "metadata": {},
     "output_type": "display_data"
    }
   ],
   "source": [
    "import seaborn as sns\n",
    "\n",
    "\n",
    "history = pd.DataFrame(\n",
    "    perplexity, columns=['Epoch', 'Train Perplexity', 'Validation Perplexity'])\n",
    "\n",
    "\n",
    "(fig, ax) = plt.subplots(1, 1)\n",
    "sns.lineplot(data=history, x='Epoch', y='Train Perplexity',ax=ax)\n",
    "sns.lineplot(data=history, x='Epoch', y='Validation Perplexity' ,ax=ax)\n",
    "\n",
    "ax.set_xlabel('Epoch')\n",
    "ax.set_ylabel('$Perplexity$')\n",
    "\n",
    "plt.show()"
   ]
  },
  {
   "cell_type": "markdown",
   "id": "6ab5fe0d",
   "metadata": {},
   "source": [
    "Generate 3 titles for every genre.\n",
    "Make sure that the titles are not all the same."
   ]
  },
  {
   "cell_type": "code",
   "execution_count": 37,
   "id": "781104d9",
   "metadata": {
    "ExecuteTime": {
     "end_time": "2022-12-12T14:22:12.174784Z",
     "start_time": "2022-12-12T14:22:11.923769Z"
    },
    "code_folding": []
   },
   "outputs": [
    {
     "name": "stdout",
     "output_type": "stream",
     "text": [
      "Action: strankete\n",
      "Action: the pestopt\n",
      "Action: greeg deyland\n",
      "\n",
      "\n",
      "Horror: the poirray\n",
      "Horror: evil cataled\n",
      "Horror: pagored\n",
      "\n",
      "\n",
      "Fantasy: furraw\n",
      "Fantasy: the burkers battes\n",
      "Fantasy: the crarion nacker\n",
      "\n",
      "\n",
      "Western: phaneto daye\n",
      "Western: the threted man\n",
      "Western: twerrogann tworsters\n",
      "\n",
      "\n",
      "Adventure: walken wondse\n",
      "Adventure: storilath\n",
      "Adventure: reth whip pery\n"
     ]
    }
   ],
   "source": [
    "name_genre = [('Action',   [0,0,0,0,0]),('Action',   [0,0,0,0,0]),('Action',   [0,0,0,0,0]),\n",
    "              ('Horror',   [0,0,0,0,1]),('Horror',   [0,0,0,0,1]),('Horror',   [0,0,0,0,1]),\n",
    "              ('Fantasy',  [0,0,0,1,0]),('Fantasy',  [0,0,0,1,0]),('Fantasy',  [0,0,0,1,0]),\n",
    "              ('Western',  [0,0,1,0,0]),('Western',  [0,0,1,0,0]),('Western',  [0,0,1,0,0]),\n",
    "              ('Adventure',[0,1,0,0,0]),('Adventure',[0,1,0,0,0]),('Adventure',[0,1,0,0,0]),\n",
    "             ]\n",
    "with torch.no_grad():\n",
    "    for (i,(name, genre)) in enumerate(name_genre):\n",
    "        \n",
    "        genre = torch.tensor([genre], dtype=torch.float32, device=device)\n",
    "        prefix_indexes = [vocab.index('<EDGE>')]\n",
    "        \n",
    "        if i!=0 and i%3==0:print('\\n')\n",
    "            \n",
    "        #Start generating words\n",
    "        max_characters = 20\n",
    "        for _ in range(max_characters):\n",
    "            \n",
    "            prefix_tensor = torch.tensor(\n",
    "                [prefix_indexes], dtype=torch.int64, device=device)\n",
    "            \n",
    "            outputs = torch.softmax(model(genre, prefix_tensor), dim=2)\n",
    "            \n",
    "            char_probs = outputs[0, -1, :].cpu().numpy()\n",
    "            \n",
    "            #Set <UNK> probability to 0\n",
    "            char_probs[v_idx('<UNK>')] = 0\n",
    "            \n",
    "            #Get next character\n",
    "            next_char_index = random.choices(range(len(vocab)), char_probs)[0]\n",
    "            \n",
    "            #Stop when <EDGE> token is encountered\n",
    "            if next_char_index == vocab.index('<EDGE>'):\n",
    "                break\n",
    "            \n",
    "            prefix_indexes.append(next_char_index)\n",
    "            \n",
    "            \n",
    "        sent = [vocab[index] for index in prefix_indexes[1:]]\n",
    "        print(f\"{name}: {''.join(sent)}\")"
   ]
  },
  {
   "cell_type": "markdown",
   "id": "cc97665b",
   "metadata": {},
   "source": [
    "## Language models as classifiers (30%)\n",
    "\n",
    "It occurs to you that the movie title generator can also be used as a classifier by doing the following:\n",
    "\n",
    "* Let title $t$ be the title that you want to classify.\n",
    "* For every genre $g$,\n",
    "    * Use the generator as a language model to get the probability of $t$ (the whole title) using genre $g$.\n",
    "* Pick the genre that makes the language model give the largest probability.\n",
    "\n",
    "The producer is thrilled to not need two separate models and now you have to implement this.\n",
    "**Use the preprocessed test set from the previous task** in order to find the genre that makes the language model give the largest probability.\n",
    "There is no need to plot anything here."
   ]
  },
  {
   "cell_type": "code",
   "execution_count": 38,
   "id": "b50aed84",
   "metadata": {
    "ExecuteTime": {
     "end_time": "2022-12-12T14:22:19.083305Z",
     "start_time": "2022-12-12T14:22:18.287188Z"
    }
   },
   "outputs": [],
   "source": [
    "name_genre = [('Action',   torch.tensor([[0,0,0,0,0]]*(len(indexed_test_x)), dtype=torch.float32, device=device)),\n",
    "              ('Horror',   torch.tensor([[0,0,0,0,1]]*(len(indexed_test_x)), dtype=torch.float32, device=device)),\n",
    "              ('Fantasy',  torch.tensor([[0,0,0,1,0]]*(len(indexed_test_x)), dtype=torch.float32, device=device)),\n",
    "              ('Western',  torch.tensor([[0,0,1,0,0]]*(len(indexed_test_x)), dtype=torch.float32, device=device)),\n",
    "              ('Adventure',torch.tensor([[0,1,0,0,0]]*(len(indexed_test_x)), dtype=torch.float32, device=device))]\n",
    "\n",
    "genre_probs = []\n",
    "\n",
    "#For every genre\n",
    "for name,genre in name_genre:\n",
    "    with torch.no_grad():\n",
    "        \n",
    "        #Get log probability of next character given every..\n",
    "        #..prefix of every title given the genre\n",
    "        outputs = torch.log_softmax(model(genre,indexed_test_x),\n",
    "                                    dim=2)\n",
    "        \n",
    "        title_probs = []\n",
    "        \n",
    "        #Get probability of whole sentence by summing up log probabilities \n",
    "        for (title_len, log_probs, y) in zip(test_title_lens, outputs, indexed_train_y):\n",
    "            char_log_probs = log_probs[torch.arange(title_len), y[:title_len]]\n",
    "            title_probs.append(torch.exp(char_log_probs.sum()))\n",
    "        \n",
    "        #Append probability of every title for this genre\n",
    "        genre_probs.append(title_probs)\n",
    "\n",
    "#Get most probable genre for every title\n",
    "genre_probs = torch.tensor(genre_probs, dtype=torch.float32, device=device).transpose(1,0)\n",
    "prediction = torch.argmax(genre_probs, axis=1).tolist()"
   ]
  },
  {
   "cell_type": "markdown",
   "id": "3841496d",
   "metadata": {},
   "source": [
    "Just like in the classification task, measure the F1 score and plot the confusion matrix of this new classifier."
   ]
  },
  {
   "cell_type": "code",
   "execution_count": 39,
   "id": "148060ad",
   "metadata": {
    "ExecuteTime": {
     "end_time": "2022-12-12T14:22:28.653273Z",
     "start_time": "2022-12-12T14:22:28.425262Z"
    }
   },
   "outputs": [
    {
     "name": "stdout",
     "output_type": "stream",
     "text": [
      "Accuracy:\t0.218\n",
      "Precision:\t0.200\n",
      "Recall:  \t0.210\n",
      "F1 Score:\t0.198\n",
      "\n"
     ]
    },
    {
     "data": {
      "image/png": "[encoded data removed]",
      "text/plain": [
       "<Figure size 640x480 with 2 Axes>"
      ]
     },
     "metadata": {},
     "output_type": "display_data"
    }
   ],
   "source": [
    "actual     = torch.argmax(test_genres.cpu(), dim=1).tolist()\n",
    "    \n",
    "cm = sklearn.metrics.confusion_matrix(actual, prediction)\n",
    "count      = [\"{0:0.0f}\".format(v) for v in cm.flatten()]\n",
    "percentage = [\"{0:.2%}\".format(v) for v in cm.flatten()/np.sum(cm)]\n",
    "labels = np.asarray([f\"{v1}\\n{v2}\" for v1, v2 in\n",
    "          zip(count,percentage)]).reshape(5,5)\n",
    "\n",
    "sns.heatmap(cm,fmt='',annot=labels,\n",
    "            xticklabels=cat2idx.keys(),yticklabels=cat2idx.keys())\n",
    "\n",
    "#Generate Accuracy, Precision, Recall, F1 Score   \n",
    "print('Accuracy:\\t%.3f'%  sklearn.metrics.accuracy_score (prediction, actual))\n",
    "print('Precision:\\t%.3f'% sklearn.metrics.precision_score(prediction, actual, average='macro'))\n",
    "print('Recall:  \\t%.3f'%  sklearn.metrics.recall_score   (prediction, actual, average='macro'))\n",
    "print('F1 Score:\\t%.3f'%  sklearn.metrics.f1_score       (prediction, actual, average='macro'))\n",
    "print()"
   ]
  },
  {
   "cell_type": "markdown",
   "id": "b6399514",
   "metadata": {},
   "source": [
    "Write a paragraph or psuedo code to describe what your code above does."
   ]
  },
  {
   "cell_type": "code",
   "execution_count": 75,
   "id": "27a52774",
   "metadata": {
    "ExecuteTime": {
     "end_time": "2022-12-06T19:26:47.268201Z",
     "start_time": "2022-12-06T19:26:47.258201Z"
    }
   },
   "outputs": [
    {
     "data": {
      "text/plain": [
       "'\\nFor every title t\\n\\n    genre_scores = []\\n    \\n    For every genre g\\n        score = 0\\n        \\n        For every character c of t\\n            score += probability that the next character of the prefix t[:c] was t[c+1]\\n        \\n        score /= len(t) #Normalise over length of title\\n        \\n        genre_scores.append(score)\\n    \\n    \\n    \"Which genre had the highest score?\"\\n    predicted_genre.append(argmax(genre_scores))            \\n\\n'"
      ]
     },
     "execution_count": 75,
     "metadata": {},
     "output_type": "execute_result"
    }
   ],
   "source": [
    "'''\n",
    "genre_probabilities = []\n",
    "\n",
    "For every genre g\n",
    "    title_probs = []\n",
    "    \n",
    "    Get the log probabilities of the next character given every\n",
    "    prefix of every title given g\n",
    "    \n",
    "    title_probs = Get the probability of every title by summing up the individual log\n",
    "    probabilities of the actual next character given the prefix, and then exponentiating it.\n",
    "      \n",
    "    genre_probabilities.append(title_probs)\n",
    "    \n",
    "transpose genre_probabilities in order to get the different genre probability\n",
    "for every title\n",
    "\n",
    "choose the highest probability outof the 5 genres for every title,\n",
    "and let that be the predicted genre\n",
    "\n",
    "    \n",
    "\n",
    "'''"
   ]
  },
  {
   "cell_type": "markdown",
   "id": "0f5888e6",
   "metadata": {},
   "source": [
    "## Conclusion (10%)\n",
    "\n",
    "The producer's funders are asking for a report about this new technology they invested in.\n",
    "In 300 words, write your interpretation of the results together with what you think could make the model perform better."
   ]
  },
  {
   "cell_type": "code",
   "execution_count": null,
   "id": "a3b0fa26",
   "metadata": {
    "ExecuteTime": {
     "end_time": "2022-11-21T16:55:57.093337Z",
     "start_time": "2022-11-21T16:55:57.093337Z"
    }
   },
   "outputs": [],
   "source": [
    "'''\n",
    "\n",
    "'''"
   ]
  }
 ],
 "metadata": {
  "kernelspec": {
   "display_name": "Python 3 (ipykernel)",
   "language": "python",
   "name": "python3"
  },
  "language_info": {
   "codemirror_mode": {
    "name": "ipython",
    "version": 3
   },
   "file_extension": ".py",
   "mimetype": "text/x-python",
   "name": "python",
   "nbconvert_exporter": "python",
   "pygments_lexer": "ipython3",
   "version": "3.9.7"
  },
  "toc": {
   "base_numbering": 1,
   "nav_menu": {},
   "number_sections": true,
   "sideBar": true,
   "skip_h1_title": false,
   "title_cell": "Table of Contents",
   "title_sidebar": "Contents",
   "toc_cell": false,
   "toc_position": {},
   "toc_section_display": true,
   "toc_window_display": false
  }
 },
 "nbformat": 4,
 "nbformat_minor": 5
}
