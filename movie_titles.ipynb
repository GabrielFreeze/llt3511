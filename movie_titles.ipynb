{
 "cells": [
  {
   "cell_type": "code",
   "execution_count": 1,
   "id": "2bd37655",
   "metadata": {
    "ExecuteTime": {
     "end_time": "2022-12-02T19:35:05.588924Z",
     "start_time": "2022-12-02T19:35:05.568896Z"
    }
   },
   "outputs": [
    {
     "data": {
      "text/html": [
       "<style type='text/css'>\n",
       ".CodeMirror{\n",
       "font-family: JetBrains Mono;\n",
       "</style>\n"
      ],
      "text/plain": [
       "<IPython.core.display.HTML object>"
      ]
     },
     "metadata": {},
     "output_type": "display_data"
    }
   ],
   "source": [
    "%%html\n",
    "<style type='text/css'>\n",
    ".CodeMirror{\n",
    "font-family: JetBrains Mono;\n",
    "</style>"
   ]
  },
  {
   "cell_type": "code",
   "execution_count": 2,
   "id": "9c304f50",
   "metadata": {
    "ExecuteTime": {
     "end_time": "2022-12-02T19:35:07.380968Z",
     "start_time": "2022-12-02T19:35:05.590924Z"
    }
   },
   "outputs": [],
   "source": [
    "# Suggested imports. Do not use import any modules that are not in the requirements.txt file on the VLE.\n",
    "\n",
    "import sklearn.metrics\n",
    "import sklearn.model_selection\n",
    "import matplotlib.pyplot as plt\n",
    "import random\n",
    "import collections\n",
    "import torch\n",
    "import pandas as pd\n",
    "import numpy as np\n",
    "%matplotlib inline\n",
    "\n",
    "\n",
    "device = 'cuda:0' if torch.cuda.is_available() else 'cpu'\n",
    "# device = 'cpu'"
   ]
  },
  {
   "cell_type": "markdown",
   "id": "fc98e8ff",
   "metadata": {},
   "source": [
    "# Movie titles assignment\n",
    "\n",
    "Table of contents:\n",
    "\n",
    "* [Data filtering and splitting (10%)](#Data-filtering-and-splitting-(10%))\n",
    "* [Title classification (25%)](#Title-classification-(25%))\n",
    "* [Title generation (25%)](#Title-generation-(25%))\n",
    "* [Language models as classifiers (30%)](#Language-models-as-classifiers-(30%))\n",
    "* [Conclusion (10%)](#Conclusion-(10%))\n",
    "\n",
    "Information:\n",
    "\n",
    "This assignment is 100% of your assessment.\n",
    "You are to follow the instructions below and fill each cell as instructed.\n",
    "Once ready, submit this notebook on VLE with all the outputs included (run all your code and don't clear any output cells).\n",
    "Do not submit anything else apart from the notebook and do not use any extra data apart from what is requested."
   ]
  },
  {
   "cell_type": "markdown",
   "id": "98ab5373",
   "metadata": {},
   "source": [
    "## Introduction\n",
    "\n",
    "A big shot Hollywood producer is looking for a way to automatically generate new movie titles for future movies and you have been employed to do this (in exchange for millions of dollars!).\n",
    "A data set of movie details has already been collected from IMDb for you and your task is to create the model and the algorithms necessary to use it."
   ]
  },
  {
   "cell_type": "markdown",
   "id": "80bb2f45",
   "metadata": {},
   "source": [
    "## Data filtering and splitting (10%)\n",
    "\n",
    "Start by downloading the CSV file `filmtv_movies - ENG.csv` from [this kaggle data set](https://www.kaggle.com/datasets/stefanoleone992/filmtv-movies-dataset).\n",
    "\n",
    "The CSV file needs to be filtered as the producer is only interested in certain types of movie titles.\n",
    "Load the file and filter it so that only movies with the following criteria are kept:\n",
    "\n",
    "* The country needs to be `United States` (and no other country should be mentioned).\n",
    "* The genre should be `Action`, `Horror`, `Fantasy`, `Western`, and `Adventure`.\n",
    "* The title should not have more than 20 characters."
   ]
  },
  {
   "cell_type": "code",
   "execution_count": 3,
   "id": "751ea71c",
   "metadata": {
    "ExecuteTime": {
     "end_time": "2022-12-02T19:35:07.744977Z",
     "start_time": "2022-12-02T19:35:07.381967Z"
    }
   },
   "outputs": [],
   "source": [
    "df = pd.read_csv('data.csv')  #Load full csv"
   ]
  },
  {
   "cell_type": "code",
   "execution_count": 4,
   "id": "1c2a2e96",
   "metadata": {
    "ExecuteTime": {
     "end_time": "2022-12-02T19:35:08.136989Z",
     "start_time": "2022-12-02T19:35:07.746977Z"
    }
   },
   "outputs": [
    {
     "data": {
      "text/html": [
       "<div>\n",
       "<style scoped>\n",
       "    .dataframe tbody tr th:only-of-type {\n",
       "        vertical-align: middle;\n",
       "    }\n",
       "\n",
       "    .dataframe tbody tr th {\n",
       "        vertical-align: top;\n",
       "    }\n",
       "\n",
       "    .dataframe thead th {\n",
       "        text-align: right;\n",
       "    }\n",
       "</style>\n",
       "<table border=\"1\" class=\"dataframe\">\n",
       "  <thead>\n",
       "    <tr style=\"text-align: right;\">\n",
       "      <th></th>\n",
       "      <th>title</th>\n",
       "      <th>genre</th>\n",
       "    </tr>\n",
       "  </thead>\n",
       "  <tbody>\n",
       "    <tr>\n",
       "      <th>3486</th>\n",
       "      <td>the magic of lassie</td>\n",
       "      <td>Adventure</td>\n",
       "    </tr>\n",
       "    <tr>\n",
       "      <th>20606</th>\n",
       "      <td>1408</td>\n",
       "      <td>Horror</td>\n",
       "    </tr>\n",
       "    <tr>\n",
       "      <th>8189</th>\n",
       "      <td>song of the south</td>\n",
       "      <td>Adventure</td>\n",
       "    </tr>\n",
       "    <tr>\n",
       "      <th>33007</th>\n",
       "      <td>it comes at night</td>\n",
       "      <td>Horror</td>\n",
       "    </tr>\n",
       "    <tr>\n",
       "      <th>19463</th>\n",
       "      <td>eddie macon's run</td>\n",
       "      <td>Action</td>\n",
       "    </tr>\n",
       "    <tr>\n",
       "      <th>...</th>\n",
       "      <td>...</td>\n",
       "      <td>...</td>\n",
       "    </tr>\n",
       "    <tr>\n",
       "      <th>23284</th>\n",
       "      <td>the lawless range</td>\n",
       "      <td>Western</td>\n",
       "    </tr>\n",
       "    <tr>\n",
       "      <th>37567</th>\n",
       "      <td>the forever purge</td>\n",
       "      <td>Horror</td>\n",
       "    </tr>\n",
       "    <tr>\n",
       "      <th>2286</th>\n",
       "      <td>empire strikes back</td>\n",
       "      <td>Fantasy</td>\n",
       "    </tr>\n",
       "    <tr>\n",
       "      <th>5881</th>\n",
       "      <td>nomads</td>\n",
       "      <td>Horror</td>\n",
       "    </tr>\n",
       "    <tr>\n",
       "      <th>36533</th>\n",
       "      <td>the vigil</td>\n",
       "      <td>Horror</td>\n",
       "    </tr>\n",
       "  </tbody>\n",
       "</table>\n",
       "<p>3249 rows × 2 columns</p>\n",
       "</div>"
      ],
      "text/plain": [
       "                     title      genre\n",
       "3486   the magic of lassie  Adventure\n",
       "20606                 1408     Horror\n",
       "8189     song of the south  Adventure\n",
       "33007    it comes at night     Horror\n",
       "19463    eddie macon's run     Action\n",
       "...                    ...        ...\n",
       "23284    the lawless range    Western\n",
       "37567    the forever purge     Horror\n",
       "2286   empire strikes back    Fantasy\n",
       "5881                nomads     Horror\n",
       "36533            the vigil     Horror\n",
       "\n",
       "[3249 rows x 2 columns]"
      ]
     },
     "execution_count": 4,
     "metadata": {},
     "output_type": "execute_result"
    }
   ],
   "source": [
    "df = pd.read_csv('data.csv')  #Load full csv\n",
    "df = df[df['country'] == 'United States'] #Country == United States\n",
    "df = df[df['genre'].isin(['Action','Horror','Fantasy','Western','Adventure'])] #Filter genre\n",
    "df = df[df['title'].str.len() < 21] # Title does not have more than 20 characters\n",
    "df['title'] = df['title'].apply(lambda s: s.lower()) #Set all titles to lowercase\n",
    "df = df[['title','genre']] # Only title and genre columns are needed\n",
    "\n",
    "\n",
    "df = df.sample(frac=1) #Shuffle dataset\n",
    "df.to_csv('filtered_data.csv', index=False)\n",
    "df"
   ]
  },
  {
   "cell_type": "markdown",
   "id": "448acbaa",
   "metadata": {},
   "source": [
    "Split the filtered data into 80% train, 10% validation, and 10% test.\n",
    "You will only need the title and genre columns."
   ]
  },
  {
   "cell_type": "code",
   "execution_count": 5,
   "id": "ec1fca47",
   "metadata": {
    "ExecuteTime": {
     "end_time": "2022-12-02T19:35:08.152986Z",
     "start_time": "2022-12-02T19:35:08.138986Z"
    }
   },
   "outputs": [],
   "source": [
    "#df = pd.read_csv('filtered_data.csv')\n",
    "\n",
    "#Train = 80%, Other = 20%\n",
    "train_x, other_x, train_y, other_y = sklearn.model_selection.train_test_split(df['title'],df['genre'],\n",
    "                                                             test_size=0.2, random_state=1)\n",
    "\n",
    "\n",
    "#Split other in half -> [Train = 80%, Val = 10%, Test = 10%]\n",
    "val_x, test_x, val_y, test_y = sklearn.model_selection.train_test_split(other_x, other_y,\n",
    "                                                       test_size=0.5, random_state=1)\n",
    "\n"
   ]
  },
  {
   "cell_type": "markdown",
   "id": "304d5332",
   "metadata": {},
   "source": [
    "From your processed data set, display:\n",
    "\n",
    "* the amount of movies in each genre and split\n",
    "* 5 examples of movie titles from each genre and split"
   ]
  },
  {
   "cell_type": "code",
   "execution_count": 6,
   "id": "c5e8adf7",
   "metadata": {
    "ExecuteTime": {
     "end_time": "2022-12-02T19:35:08.168986Z",
     "start_time": "2022-12-02T19:35:08.153986Z"
    },
    "collapsed": true
   },
   "outputs": [
    {
     "name": "stdout",
     "output_type": "stream",
     "text": [
      "Amount of Movies in Training Set:\n",
      "Action       722\n",
      "Horror       644\n",
      "Fantasy      434\n",
      "Western      428\n",
      "Adventure    371\n",
      "Name: genre, dtype: int64\n",
      "\n",
      "Amount of Movies in Validation Set:\n",
      "Horror       80\n",
      "Action       79\n",
      "Fantasy      67\n",
      "Adventure    51\n",
      "Western      48\n",
      "Name: genre, dtype: int64\n",
      "\n",
      "Amount of Movies in Testing Set:\n",
      "Horror       94\n",
      "Action       87\n",
      "Western      61\n",
      "Adventure    42\n",
      "Fantasy      41\n",
      "Name: genre, dtype: int64\n"
     ]
    }
   ],
   "source": [
    "print('Amount of Movies in Training Set:')\n",
    "print(train_y.value_counts())\n",
    "\n",
    "print('\\nAmount of Movies in Validation Set:')\n",
    "print(val_y.value_counts())\n",
    "\n",
    "print('\\nAmount of Movies in Testing Set:')\n",
    "print(test_y.value_counts())"
   ]
  },
  {
   "cell_type": "code",
   "execution_count": 17,
   "id": "4984a2d2",
   "metadata": {
    "ExecuteTime": {
     "end_time": "2022-12-02T19:37:08.530430Z",
     "start_time": "2022-12-02T19:37:08.501430Z"
    },
    "collapsed": true
   },
   "outputs": [
    {
     "name": "stdout",
     "output_type": "stream",
     "text": [
      "5 Random Action movies from each split:\n",
      "Train:['47 ronin', 'ring of fire ii', 'vanish', 'volcano', 'jarhead 3: the siege']\n",
      "\n",
      "Validate:['snitch', 'out for a kill', 'lethal weapon', 'armstrong', 'thursday']\n",
      "\n",
      "Test:['double take', 'el mariachi', 'death wish', 'jolt', 'fast & furious']\n",
      "\n",
      "\n",
      "\n",
      "=================================\n",
      "\n",
      "5 Random Horror movies from each split:\n",
      "Train:['the roommate', 'constantine', 'hidden', 'pet sematary', 'the exorcist']\n",
      "\n",
      "Validate:['alligator people', 'tales of terror', 'the maze', 'species ii', 'robocroc']\n",
      "\n",
      "Test:['the cell 2', 'evil never dies', 'dead birds', 'c.h.u.d.', 'diary of the dead ']\n",
      "\n",
      "\n",
      "\n",
      "=================================\n",
      "\n",
      "5 Random Fantasy movies from each split:\n",
      "Train:['invisible man', 'dracula untold', 'the abyss', 'outlander', 'rainbow']\n",
      "\n",
      "Validate:['casper', 'time freak', 'the satan bug', 'age of dinosaurs', 'legion']\n",
      "\n",
      "Test:['g-force ', 'eve of destruction', '3022', 'prince charming', 'transcendence']\n",
      "\n",
      "\n",
      "\n",
      "=================================\n",
      "\n",
      "5 Random Western movies from each split:\n",
      "Train:['jubilee trail', 'apache drums', 'three hours to kill', 'shenandoah', 'springfield rifle']\n",
      "\n",
      "Validate:['the ballad of josie', 'fort utah', 'a lust to kill', 'warlock', 'bucking broadway']\n",
      "\n",
      "Test:['man of the west', 'destry', 'vengeance valley', 'the mountain men', 'cheyenne']\n",
      "\n",
      "\n",
      "\n",
      "=================================\n",
      "\n",
      "5 Random Adventure movies from each split:\n",
      "Train:['the black stallion', 'the saint', 'eight below', \"a knight's tale\", 'sahara']\n",
      "\n",
      "Validate:['the lost world', 'a night on the town', 'jamaica run', 'mutiny', 'the gypsy moths']\n",
      "\n",
      "Test:['against the sun', 'into the badlands', 'king kong lives', 'assault on a queen', 'hidalgo']\n",
      "\n",
      "\n",
      "\n",
      "=================================\n",
      "\n"
     ]
    }
   ],
   "source": [
    "train = pd.DataFrame(columns=['title'], data=train_x)\n",
    "train['genre'] = train_y\n",
    "\n",
    "val = pd.DataFrame(columns=['title'], data=val_x)\n",
    "val['genre'] = val_y\n",
    "\n",
    "test = pd.DataFrame(columns=['title'], data=test_x)\n",
    "test['genre'] = test_y\n",
    "\n",
    "for genre in cat2idx.keys():  \n",
    "    print(f'5 Random {genre} movies from each split:')\n",
    "    \n",
    "    print(f\"Train:{list(train[train['genre']==genre]['title'].sample(n=5).apply(lambda s: ''.join(s)))}\\n\")\n",
    "    print(f\"Validate:{list(val[val['genre']==genre]['title'].sample(n=5).apply(lambda s: ''.join(s)))}\\n\")    \n",
    "    print(f\"Test:{list(test[test['genre']==genre]['title'].sample(n=5).apply(lambda s: ''.join(s)))}\\n\")\n",
    "    \n",
    "    print('\\n\\n=================================\\n')\n",
    "    "
   ]
  },
  {
   "cell_type": "markdown",
   "id": "8c1240be",
   "metadata": {
    "heading_collapsed": true
   },
   "source": [
    "## Title classification (25%)\n",
    "\n",
    "Your first task is to prove that a neural network can identify the genre of a movie based on its title.\n",
    "\n",
    "You will note that many titles are just a single word or two words long so you need to work at the character level instead of the word level, that is, a token would be a single character, including punctuation marks and spaces.\n",
    "You must also lowercase the titles.\n",
    "Preprocess the data sets, create a neural network, and train it to classify the movie titles into their genre.\n",
    "Plot a graph of the **accuracy** of the model on the train and validation sets after each epoch."
   ]
  },
  {
   "cell_type": "code",
   "execution_count": 11,
   "id": "95ac75bd",
   "metadata": {
    "ExecuteTime": {
     "end_time": "2022-12-02T19:35:30.076257Z",
     "start_time": "2022-12-02T19:35:28.439219Z"
    },
    "hidden": true,
    "scrolled": false
   },
   "outputs": [],
   "source": [
    "# Tokenise each character.\n",
    "train_x = train_x.apply(lambda s: [*s])\n",
    "val_x = val_x.apply(lambda s: [*s])\n",
    "test_x = test_x.apply(lambda s: [*s])\n",
    "\n",
    "# Get the lengths of each title.\n",
    "train_lens_x = torch.tensor([len(title) for title in train_x],\n",
    "                            dtype=torch.int64, device=device)\n",
    "val_lens_x = torch.tensor([len(title) for title in val_x],\n",
    "                          dtype=torch.int64, device=device)\n",
    "test_lens_x = torch.tensor([len(title) for title in test_x],\n",
    "                           dtype=torch.int64, device=device)\n",
    "\n",
    "# Get the maximum length of a title.\n",
    "train_max_len = max(train_lens_x)\n",
    "val_max_len = max(val_lens_x)\n",
    "test_max_len = max(test_lens_x)\n",
    "\n",
    "# Create the vocabulary.\n",
    "vocab = ['<PAD>'] + \\\n",
    "    sorted({token for sent in pd.concat(\n",
    "        [train_x, val_x, test_x]) for token in sent})\n",
    "\n",
    "# Pad the titles to max_len characters using <PAD> tokens.\n",
    "padded_train_x = [sent + ['<PAD>'] *\n",
    "                  (train_max_len - len(sent)) for sent in train_x]\n",
    "padded_val_x = [sent + ['<PAD>']*(val_max_len - len(sent)) for sent in val_x]\n",
    "padded_test_x = [sent + ['<PAD>'] *\n",
    "                 (test_max_len - len(sent)) for sent in test_x]\n",
    "\n",
    "# Replace each character with its index in the vocabulary.\n",
    "indexed_train_x = torch.tensor([[vocab.index(token) for token in title]\n",
    "                               for title in padded_train_x],\n",
    "                               dtype=torch.int64, device=device)\n",
    "indexed_val_x = torch.tensor([[vocab.index(token) for token in title]\n",
    "                              for title in padded_val_x],\n",
    "                             dtype=torch.int64, device=device)\n",
    "indexed_test_x = torch.tensor([[vocab.index(token) for token in title]\n",
    "                               for title in padded_test_x],\n",
    "                              dtype=torch.int64, device=device)\n",
    "\n",
    "\n",
    "categories = ['Action', 'Horror', 'Fantasy', 'Western', 'Adventure']\n",
    "cat2idx = {cat: i for (i, cat) in enumerate(categories)}\n",
    "\n",
    "\n",
    "#One-hot Encoded train_y\n",
    "indexed_train_y = torch.tensor(train_y.map(cat2idx.get).to_numpy()[:, None],\n",
    "                               dtype=torch.int64, device=device)\n",
    "\n",
    "encoded_train_y = torch.nn.functional.one_hot(\n",
    "    indexed_train_y[:, 0], num_classes=5).float()\n",
    "\n",
    "#One-hot Encoded val_y\n",
    "indexed_val_y = torch.tensor(val_y.map(cat2idx.get).to_numpy()[:, None],\n",
    "                               dtype=torch.int64, device=device)\n",
    "encoded_val_y = torch.nn.functional.one_hot(\n",
    "    indexed_val_y[:, 0], num_classes=5).float()\n",
    "\n",
    "#One-hot Encoded test_y\n",
    "indexed_test_y = torch.tensor(test_y.map(cat2idx.get).to_numpy()[:, None],\n",
    "                               dtype=torch.int64, device=device)\n",
    "encoded_test_y = torch.nn.functional.one_hot(\n",
    "    indexed_test_y[:, 0], num_classes=5).float()"
   ]
  },
  {
   "cell_type": "code",
   "execution_count": 8,
   "id": "24bf938d",
   "metadata": {
    "ExecuteTime": {
     "end_time": "2022-12-02T19:35:11.963120Z",
     "start_time": "2022-12-02T19:35:11.953122Z"
    },
    "code_folding": [],
    "hidden": true
   },
   "outputs": [],
   "source": [
    "class Model(torch.nn.Module):\n",
    "\n",
    "    def __init__(self, vocab_size, embedding_size, hidden_size, num_classes):\n",
    "        super().__init__()\n",
    "        self.hidden_size = hidden_size\n",
    "        self.embedding_layer = torch.nn.Embedding(vocab_size, embedding_size)\n",
    "\n",
    "        self.rnn_s0 = torch.nn.Parameter(\n",
    "            torch.zeros((hidden_size,), dtype=torch.float32))\n",
    "        self.rnn_c0 = torch.nn.Parameter(\n",
    "            torch.zeros((hidden_size,), dtype=torch.float32))\n",
    "        self.rnn_cell = torch.nn.LSTMCell(\n",
    "            embedding_size, hidden_size, device=device)\n",
    "        self.output_layer = torch.nn.Linear(hidden_size, num_classes)\n",
    "\n",
    "    def forward(self, x, text_lens):\n",
    "        batch_size = x.shape[0]  # Number of Titles\n",
    "        time_steps = x.shape[1]  # Number of Characters (20)\n",
    "\n",
    "        embedded = self.embedding_layer(x)\n",
    "        state = self.rnn_s0.unsqueeze(0).tile((batch_size, 1))\n",
    "        c = self.rnn_c0.unsqueeze(0).tile((batch_size, 1))\n",
    "\n",
    "        for t in range(time_steps):\n",
    "            mask = (t < text_lens).unsqueeze(1).tile((1, self.hidden_size))\n",
    "            (next_state, c) = self.rnn_cell(embedded[:, t, :], (state, c))\n",
    "            state = torch.where(mask, next_state, state)\n",
    "\n",
    "        return self.output_layer(state)"
   ]
  },
  {
   "cell_type": "code",
   "execution_count": null,
   "id": "964a4cf6",
   "metadata": {
    "ExecuteTime": {
     "end_time": "2022-12-02T18:41:48.042685Z",
     "start_time": "2022-12-02T18:38:10.164101Z"
    },
    "code_folding": [],
    "hidden": true
   },
   "outputs": [],
   "source": [
    "model = Model(len(vocab), embedding_size=16,\n",
    "              hidden_size=8, num_classes=len(categories))\n",
    "model.to(device)\n",
    "\n",
    "optimiser = torch.optim.Adam(model.parameters())\n",
    "\n",
    "print('step', 'error')\n",
    "history = []\n",
    "\n",
    "for step in range(1, 20_000):\n",
    "    optimiser.zero_grad()\n",
    "    output = model(indexed_train_x, train_lens_x)\n",
    "    error = torch.nn.functional.cross_entropy(\n",
    "        output, encoded_train_y)\n",
    "    error.backward()\n",
    "    optimiser.step()\n",
    "\n",
    "    print(step, end='\\r')\n",
    "    if step % 1_000 == 0:\n",
    "        val_error = 0\n",
    "\n",
    "        with torch.no_grad():\n",
    "            prediction = torch.softmax(\n",
    "                model(indexed_val_x, val_lens_x), dim=1).argmax(axis=1).float()\n",
    "\n",
    "            actual = encoded_val_y.argmax(axis=1).float()\n",
    "\n",
    "            val_error += torch.nn.functional.cross_entropy(prediction, actual)\n",
    "\n",
    "        avg_val_error = val_error/len(val_x)\n",
    "\n",
    "        # Track loss over time\n",
    "        history.append(\n",
    "            (step, error.tolist(), avg_val_error.tolist()))\n",
    "\n",
    "        print(step, history[-1][1:])\n",
    "\n",
    "history = pd.DataFrame(\n",
    "    history, columns=['Epoch', 'Train Loss', 'Validation Loss'])\n",
    "\n",
    "# torch.save(model.state_dict(),'model_01')"
   ]
  },
  {
   "cell_type": "code",
   "execution_count": null,
   "id": "18468b13",
   "metadata": {
    "ExecuteTime": {
     "end_time": "2022-12-02T19:35:36.493490Z",
     "start_time": "2022-12-02T19:35:36.382490Z"
    },
    "hidden": true
   },
   "outputs": [],
   "source": [
    "import seaborn as sns\n",
    "(fig, ax) = plt.subplots(1, 1)\n",
    "ax.set_xlabel('step')\n",
    "ax.set_ylabel('$E$')\n",
    "sns.lineplot(data=history, x='Epoch', y='Train Loss',ax=ax)\n",
    "sns.lineplot(data=history, x='Epoch', y='Validation Loss' ,ax=ax)\n",
    "\n",
    "ax.set_xlabel('Epoch')\n",
    "ax.set_ylabel('$E$')\n",
    "\n",
    "plt.show()"
   ]
  },
  {
   "cell_type": "code",
   "execution_count": 16,
   "id": "70635d74",
   "metadata": {
    "ExecuteTime": {
     "end_time": "2022-12-02T19:36:19.628142Z",
     "start_time": "2022-12-02T19:36:19.383046Z"
    },
    "hidden": true
   },
   "outputs": [
    {
     "name": "stdout",
     "output_type": "stream",
     "text": [
      "Accuracy:\t0.625\n",
      "Precision:\t0.613\n",
      "Recall:  \t0.604\n",
      "F1 Score:\t0.607\n",
      "\n"
     ]
    },
    {
     "data": {
      "image/png": "[encoded data removed]",
      "text/plain": [
       "<Figure size 640x480 with 2 Axes>"
      ]
     },
     "metadata": {},
     "output_type": "display_data"
    }
   ],
   "source": [
    "#Load saved model\n",
    "model = Model(len(vocab), embedding_size=16,\n",
    "              hidden_size=8, num_classes=len(categories))\n",
    "model.to(device)\n",
    "model.load_state_dict(torch.load('model_01'))\n",
    "\n",
    "with torch.no_grad():\n",
    "    outputs = torch.softmax(\n",
    "        model(indexed_test_x, test_lens_x), dim=1).cpu().numpy().argmax(axis=1)\n",
    "\n",
    "actual    = indexed_test_y.cpu()\n",
    "prediction = outputs\n",
    "    \n",
    "cm = sklearn.metrics.confusion_matrix(actual, outputs)\n",
    "count      = [\"{0:0.0f}\".format(v) for v in cm.flatten()]\n",
    "percentage = [\"{0:.2%}\".format(v) for v in cm.flatten()/np.sum(cm)]\n",
    "labels = np.asarray([f\"{v1}\\n{v2}\" for v1, v2 in\n",
    "          zip(count,percentage)]).reshape(5,5)\n",
    "\n",
    "sns.heatmap(cm,fmt='',annot=labels,\n",
    "            xticklabels=cat2idx.keys(),yticklabels=cat2idx.keys())\n",
    "\n",
    "#Generate Accuracy, Precision, Recall, F1 Score   \n",
    "print('Accuracy:\\t%.3f'%  sklearn.metrics.accuracy_score (prediction, actual))\n",
    "print('Precision:\\t%.3f'% sklearn.metrics.precision_score(prediction, actual, average='macro'))\n",
    "print('Recall:  \\t%.3f'%  sklearn.metrics.recall_score   (prediction, actual, average='macro'))\n",
    "print('F1 Score:\\t%.3f'%  sklearn.metrics.f1_score       (prediction, actual, average='macro'))\n",
    "print()"
   ]
  },
  {
   "cell_type": "markdown",
   "id": "f53265d7",
   "metadata": {
    "hidden": true
   },
   "source": [
    "Measure the F1 score performance of the model when applied on the test set.\n",
    "Also plot a confusion matrix showing how often each genre is mistaken as another genre."
   ]
  },
  {
   "cell_type": "markdown",
   "id": "885c811f",
   "metadata": {},
   "source": [
    "## Title generation (25%)\n",
    "\n",
    "Now that you've proven that titles and genre are related, make a model that can generate a title given a genre.\n",
    "\n",
    "Again, you need to generate tokens at the character level instead of the word level and the titles must be lowercased.\n",
    "Preprocess the data sets, create a neural network, and train it to generate the movie titles given their genre.\n",
    "Plot a graph of the **perplexity** of the model on the train and validation sets after each epoch."
   ]
  },
  {
   "cell_type": "code",
   "execution_count": 75,
   "id": "89209908",
   "metadata": {
    "ExecuteTime": {
     "end_time": "2022-12-02T20:36:03.842832Z",
     "start_time": "2022-12-02T20:36:02.375833Z"
    }
   },
   "outputs": [],
   "source": [
    "# Get all titles\n",
    "titles = df['title']\n",
    "\n",
    "# Tokenise every character\n",
    "titles = texts.apply(lambda s: [*s])\n",
    "\n",
    "# Get One-Hot encoding of genres\n",
    "categories = ['Action', 'Horror', 'Fantasy', 'Western', 'Adventure']\n",
    "cat2idx = {cat: i for (i, cat) in enumerate(categories)}\n",
    "genres = torch.tensor(df['genre'].map(cat2idx.get).to_numpy()[\n",
    "                      :, None], dtype=torch.int64, device=device)\n",
    "genres = torch.nn.functional.one_hot(\n",
    "    genres[:, 0], num_classes=5).float()\n",
    "\n",
    "# Get lenght of every title including the EDGE token\n",
    "title_lens = torch.tensor([len(t)+1 for t in titles],\n",
    "                          dtype=torch.int64, device=device)\n",
    "\n",
    "# Get maximum length of a title\n",
    "max_len = max(title_lens)\n",
    "\n",
    "# Get vocabulary\n",
    "vocab = ['<PAD>','<EDGE>'] + sorted({tok for t in titles for tok in t})\n",
    "\n",
    "# Get train_x\n",
    "padded_train_x = [['<EDGE>']+t+['<PAD>']\n",
    "                  * (max_len-len(t)-1) for t in titles]\n",
    "indexed_train_x = torch.tensor(\n",
    "    [[vocab.index(tok) for tok in t] for t in padded_train_x],\n",
    "    dtype=torch.int64, device=device)\n",
    "\n",
    "# Get train_y\n",
    "padded_train_y = [t+['<EDGE>']+['<PAD>']\n",
    "                  * (max_len-len(t)- 1) for t in titles]\n",
    "indexed_train_y = torch.tensor(\n",
    "    [[vocab.index(tok) for tok in t] for t in padded_train_y],\n",
    "    dtype=torch.int64, device=device)"
   ]
  },
  {
   "cell_type": "markdown",
   "id": "da86299f",
   "metadata": {},
   "source": [
    "Generate 3 titles for every genre.\n",
    "Make sure that the titles are not all the same."
   ]
  },
  {
   "cell_type": "code",
   "execution_count": 54,
   "id": "f2aa6465",
   "metadata": {
    "ExecuteTime": {
     "end_time": "2022-12-02T20:29:38.998301Z",
     "start_time": "2022-12-02T20:29:38.982303Z"
    },
    "code_folding": [
     0
    ]
   },
   "outputs": [],
   "source": [
    "class Model(torch.nn.Module):\n",
    "\n",
    "    def __init__(self, cond_size, vocab_size, embedding_size, hidden_size):\n",
    "        super().__init__()\n",
    "\n",
    "        self.embedding_layer = torch.nn.Embedding(vocab_size, embedding_size)\n",
    "        \n",
    "        self.rnn_s0 = torch.nn.Parameter(\n",
    "            torch.zeros((hidden_size,), dtype=torch.float32))\n",
    "        self.rnn_c0 = torch.nn.Parameter(\n",
    "            torch.zeros((hidden_size,), dtype=torch.float32))\n",
    "        self.rnn_cell = torch.nn.LSTMCell(embedding_size, hidden_size)\n",
    "        \n",
    "        self.output_layer = torch.nn.Linear(cond_size+hidden_size, vocab_size)\n",
    "        \n",
    "        \n",
    "    def forward(self, cond, x):\n",
    "        batch_size = x.shape[0]\n",
    "        time_steps = x.shape[1]\n",
    "        \n",
    "        embedded = self.embedding_layer(x)\n",
    "        \n",
    "        state = self.rnn_s0.unsqueeze(0).tile((batch_size,1))\n",
    "        c = self.rnn_s0.unsqueeze(0).tile((batch_size,1)) #ERROR??\n",
    "        interm_states = []\n",
    "        \n",
    "        #Get intermediate states\n",
    "        for t in range(time_steps):\n",
    "            (state,c) = self.rnn_cell(embedded[:,t,:], (state,c))\n",
    "            interm_states.append(state)\n",
    "        interm_states = torch.stack(interm_states, dim=1)\n",
    "        \n",
    "        #Replicate the same conditioning vector for every character\n",
    "        cond_3d = cond.unsqueeze(1).tile((1, time_steps, 1))\n",
    "        \n",
    "        #Attach the replicated conditioning vector to the intermediate states\n",
    "        interm_states = torch.cat((cond_3d, interm_states), dim=2)\n",
    "        \n",
    "        return self.output_layer(interm_states)"
   ]
  },
  {
   "cell_type": "code",
   "execution_count": 113,
   "id": "9f7c42b9",
   "metadata": {
    "ExecuteTime": {
     "end_time": "2022-12-02T20:54:54.643535Z",
     "start_time": "2022-12-02T20:51:06.711731Z"
    },
    "code_folding": [
     11
    ]
   },
   "outputs": [
    {
     "name": "stdout",
     "output_type": "stream",
     "text": [
      "step error\n",
      "2000 2.3993618488311768\n",
      "4000 2.299030303955078\n",
      "6000 2.2663774490356445\n",
      "8000 2.251842737197876\n",
      "10000 2.2452456951141357\n",
      "12000 2.2418689727783203\n",
      "14000 2.2395639419555664\n",
      "16000 2.2376904487609863\n",
      "18000 2.236069440841675\n",
      "20000 2.2350869178771973\n",
      "\n"
     ]
    }
   ],
   "source": [
    "model = Model(genres.shape[1], len(vocab), embedding_size=16, hidden_size=8)\n",
    "model.to(device)\n",
    "\n",
    "optimiser = torch.optim.Adam(model.parameters())\n",
    "\n",
    "print('step', 'error')\n",
    "train_errors = []\n",
    "batch_size = indexed_train_x.shape[0]\n",
    "time_steps = indexed_train_x.shape[1]\n",
    "\n",
    "mask = torch.zeros((batch_size, time_steps), dtype=torch.bool, device=device)\n",
    "for i in range(batch_size):\n",
    "    for j in range(time_steps):\n",
    "        if j >= title_lens[i]:\n",
    "            mask[i, j] = 1\n",
    "\n",
    "for step in range(1, 20_000+1):\n",
    "    optimiser.zero_grad()\n",
    "    output = model(genres, indexed_train_x)\n",
    "    errors = torch.nn.functional.cross_entropy(\n",
    "        output.transpose(1, 2), indexed_train_y, reduction='none')\n",
    "    errors = torch.masked_fill(errors, mask, 0.0)\n",
    "    error = errors.sum()/title_lens.sum()\n",
    "    train_errors.append(error.detach().tolist())\n",
    "    error.backward()\n",
    "    optimiser.step()\n",
    "    \n",
    "    print(step, end='\\r')\n",
    "    \n",
    "    if step % 2_000 == 0:\n",
    "        print(step, train_errors[-1])\n",
    "print()\n",
    "    "
   ]
  },
  {
   "cell_type": "code",
   "execution_count": 120,
   "id": "781104d9",
   "metadata": {
    "ExecuteTime": {
     "end_time": "2022-12-02T20:57:22.386870Z",
     "start_time": "2022-12-02T20:57:22.274867Z"
    },
    "code_folding": []
   },
   "outputs": [
    {
     "name": "stdout",
     "output_type": "stream",
     "text": [
      "Action: the prighesm/hix 4: \n",
      "\n",
      "Horror: the sagent qoaocuriu\n",
      "\n",
      "Fantasy: the loven\n",
      "\n",
      "Western: tilycolhtiri\n",
      "\n",
      "Adventure: bape\n",
      "\n"
     ]
    }
   ],
   "source": [
    "name_genre = [('Action',   [0,0,0,0,0]),\n",
    "              ('Horror',   [0,0,0,0,1]),\n",
    "              ('Fantasy',  [0,0,0,1,0]),\n",
    "              ('Western',  [0,0,1,0,0]),\n",
    "              ('Adventure',[0,1,0,0,0]),\n",
    "             ]\n",
    "with torch.no_grad():\n",
    "    for (name, genre) in name_genre:\n",
    "        \n",
    "        genre = torch.tensor([genre], dtype=torch.float32, device=device)\n",
    "        prefix_indexes = [vocab.index('<EDGE>')]\n",
    "        \n",
    "        #Start generating words\n",
    "        max_characters = 20\n",
    "        for _ in range(max_characters):\n",
    "            \n",
    "            prefix_tensor = torch.tensor(\n",
    "                [prefix_indexes], dtype=torch.int64, device=device)\n",
    "            \n",
    "            outputs = torch.softmax(model(genre, prefix_tensor), dim=2)\n",
    "            \n",
    "            word_probs = outputs[0, -1, :].tolist()\n",
    "            \n",
    "            next_word_index = random.choices(range(len(vocab)), word_probs)[0]\n",
    "            \n",
    "            #Stop when <EDGE> token is encountered\n",
    "            if next_word_index == vocab.index('<EDGE>'):\n",
    "                break\n",
    "            \n",
    "            prefix_indexes.append(next_word_index)\n",
    "            \n",
    "            \n",
    "        sent = [vocab[index] for index in prefix_indexes[1:]]\n",
    "        print(f\"{name}: {''.join(sent)}\")\n",
    "        print()"
   ]
  },
  {
   "cell_type": "markdown",
   "id": "cc97665b",
   "metadata": {
    "heading_collapsed": true
   },
   "source": [
    "## Language models as classifiers (30%)\n",
    "\n",
    "It occurs to you that the movie title generator can also be used as a classifier by doing the following:\n",
    "\n",
    "* Let title $t$ be the title that you want to classify.\n",
    "* For every genre $g$,\n",
    "    * Use the generator as a language model to get the probability of $t$ (the whole title) using genre $g$.\n",
    "* Pick the genre that makes the language model give the largest probability.\n",
    "\n",
    "The producer is thrilled to not need two separate models and now you have to implement this.\n",
    "**Use the preprocessed test set from the previous task** in order to find the genre that makes the language model give the largest probability.\n",
    "There is no need to plot anything here."
   ]
  },
  {
   "cell_type": "code",
   "execution_count": null,
   "id": "44ba8fd6",
   "metadata": {
    "hidden": true
   },
   "outputs": [],
   "source": []
  },
  {
   "cell_type": "markdown",
   "id": "3841496d",
   "metadata": {
    "hidden": true
   },
   "source": [
    "Just like in the classification task, measure the F1 score and plot the confusion matrix of this new classifier."
   ]
  },
  {
   "cell_type": "code",
   "execution_count": null,
   "id": "148060ad",
   "metadata": {
    "hidden": true
   },
   "outputs": [],
   "source": []
  },
  {
   "cell_type": "markdown",
   "id": "b6399514",
   "metadata": {
    "hidden": true
   },
   "source": [
    "Write a paragraph or psuedo code to describe what your code above does."
   ]
  },
  {
   "cell_type": "code",
   "execution_count": null,
   "id": "f33c9a9e",
   "metadata": {
    "ExecuteTime": {
     "end_time": "2022-11-21T16:55:57.092337Z",
     "start_time": "2022-11-21T16:55:57.092337Z"
    },
    "hidden": true
   },
   "outputs": [],
   "source": [
    "'''\n",
    "\n",
    "'''"
   ]
  },
  {
   "cell_type": "markdown",
   "id": "0f5888e6",
   "metadata": {
    "heading_collapsed": true
   },
   "source": [
    "## Conclusion (10%)\n",
    "\n",
    "The producer's funders are asking for a report about this new technology they invested in.\n",
    "In 300 words, write your interpretation of the results together with what you think could make the model perform better."
   ]
  },
  {
   "cell_type": "code",
   "execution_count": null,
   "id": "a3b0fa26",
   "metadata": {
    "ExecuteTime": {
     "end_time": "2022-11-21T16:55:57.093337Z",
     "start_time": "2022-11-21T16:55:57.093337Z"
    },
    "hidden": true
   },
   "outputs": [],
   "source": [
    "'''\n",
    "\n",
    "'''"
   ]
  }
 ],
 "metadata": {
  "kernelspec": {
   "display_name": "Python 3 (ipykernel)",
   "language": "python",
   "name": "python3"
  },
  "language_info": {
   "codemirror_mode": {
    "name": "ipython",
    "version": 3
   },
   "file_extension": ".py",
   "mimetype": "text/x-python",
   "name": "python",
   "nbconvert_exporter": "python",
   "pygments_lexer": "ipython3",
   "version": "3.9.7"
  },
  "toc": {
   "base_numbering": 1,
   "nav_menu": {},
   "number_sections": true,
   "sideBar": true,
   "skip_h1_title": false,
   "title_cell": "Table of Contents",
   "title_sidebar": "Contents",
   "toc_cell": false,
   "toc_position": {},
   "toc_section_display": true,
   "toc_window_display": false
  }
 },
 "nbformat": 4,
 "nbformat_minor": 5
}
