{
 "cells": [
  {
   "cell_type": "code",
   "execution_count": 1,
   "id": "2bd37655",
   "metadata": {
    "ExecuteTime": {
     "end_time": "2022-12-15T21:54:00.523376Z",
     "start_time": "2022-12-15T21:54:00.499376Z"
    }
   },
   "outputs": [
    {
     "data": {
      "text/html": [
       "<style type='text/css'>\n",
       ".CodeMirror{\n",
       "font-family: JetBrains Mono;\n",
       "</style>\n"
      ],
      "text/plain": [
       "<IPython.core.display.HTML object>"
      ]
     },
     "metadata": {},
     "output_type": "display_data"
    }
   ],
   "source": [
    "%%html\n",
    "<style type='text/css'>\n",
    ".CodeMirror{\n",
    "font-family: JetBrains Mono;\n",
    "</style>"
   ]
  },
  {
   "cell_type": "code",
   "execution_count": 2,
   "id": "9c304f50",
   "metadata": {
    "ExecuteTime": {
     "end_time": "2022-12-15T21:54:05.331296Z",
     "start_time": "2022-12-15T21:54:01.539022Z"
    }
   },
   "outputs": [],
   "source": [
    "# Suggested imports. Do not use import any modules that are not in the requirements.txt file on the VLE.\n",
    "\n",
    "import sklearn.metrics\n",
    "import sklearn.model_selection\n",
    "import matplotlib.pyplot as plt\n",
    "import random\n",
    "import collections\n",
    "import torch\n",
    "import pandas as pd\n",
    "import numpy as np\n",
    "%matplotlib inline\n",
    "\n",
    "\n",
    "device = 'cuda:0' if torch.cuda.is_available() else 'cpu'\n",
    "# device = 'cpu'"
   ]
  },
  {
   "cell_type": "markdown",
   "id": "fc98e8ff",
   "metadata": {},
   "source": [
    "# Movie titles assignment\n",
    "\n",
    "Table of contents:\n",
    "\n",
    "* [Data filtering and splitting (10%)](#Data-filtering-and-splitting-(10%))\n",
    "* [Title classification (25%)](#Title-classification-(25%))\n",
    "* [Title generation (25%)](#Title-generation-(25%))\n",
    "* [Language models as classifiers (30%)](#Language-models-as-classifiers-(30%))\n",
    "* [Conclusion (10%)](#Conclusion-(10%))\n",
    "\n",
    "Information:\n",
    "\n",
    "This assignment is 100% of your assessment.\n",
    "You are to follow the instructions below and fill each cell as instructed.\n",
    "Once ready, submit this notebook on VLE with all the outputs included (run all your code and don't clear any output cells).\n",
    "Do not submit anything else apart from the notebook and do not use any extra data apart from what is requested."
   ]
  },
  {
   "cell_type": "markdown",
   "id": "98ab5373",
   "metadata": {},
   "source": [
    "## Introduction\n",
    "\n",
    "A big shot Hollywood producer is looking for a way to automatically generate new movie titles for future movies and you have been employed to do this (in exchange for millions of dollars!).\n",
    "A data set of movie details has already been collected from IMDb for you and your task is to create the model and the algorithms necessary to use it."
   ]
  },
  {
   "cell_type": "markdown",
   "id": "80bb2f45",
   "metadata": {},
   "source": [
    "## Data filtering and splitting (10%)\n",
    "\n",
    "Start by downloading the CSV file `filmtv_movies - ENG.csv` from [this kaggle data set](https://www.kaggle.com/datasets/stefanoleone992/filmtv-movies-dataset).\n",
    "\n",
    "The CSV file needs to be filtered as the producer is only interested in certain types of movie titles.\n",
    "Load the file and filter it so that only movies with the following criteria are kept:\n",
    "\n",
    "* The country needs to be `United States` (and no other country should be mentioned).\n",
    "* The genre should be `Action`, `Horror`, `Fantasy`, `Western`, and `Adventure`.\n",
    "* The title should not have more than 20 characters."
   ]
  },
  {
   "cell_type": "code",
   "execution_count": 4,
   "id": "1c2a2e96",
   "metadata": {
    "ExecuteTime": {
     "end_time": "2022-12-15T21:55:31.665648Z",
     "start_time": "2022-12-15T21:55:31.247650Z"
    }
   },
   "outputs": [
    {
     "data": {
      "text/html": [
       "<div>\n",
       "<style scoped>\n",
       "    .dataframe tbody tr th:only-of-type {\n",
       "        vertical-align: middle;\n",
       "    }\n",
       "\n",
       "    .dataframe tbody tr th {\n",
       "        vertical-align: top;\n",
       "    }\n",
       "\n",
       "    .dataframe thead th {\n",
       "        text-align: right;\n",
       "    }\n",
       "</style>\n",
       "<table border=\"1\" class=\"dataframe\">\n",
       "  <thead>\n",
       "    <tr style=\"text-align: right;\">\n",
       "      <th></th>\n",
       "      <th>title</th>\n",
       "      <th>genre</th>\n",
       "    </tr>\n",
       "  </thead>\n",
       "  <tbody>\n",
       "    <tr>\n",
       "      <th>608</th>\n",
       "      <td>hello again</td>\n",
       "      <td>Fantasy</td>\n",
       "    </tr>\n",
       "    <tr>\n",
       "      <th>30970</th>\n",
       "      <td>air</td>\n",
       "      <td>Fantasy</td>\n",
       "    </tr>\n",
       "    <tr>\n",
       "      <th>18489</th>\n",
       "      <td>best of the best 2</td>\n",
       "      <td>Action</td>\n",
       "    </tr>\n",
       "    <tr>\n",
       "      <th>26360</th>\n",
       "      <td>looper</td>\n",
       "      <td>Action</td>\n",
       "    </tr>\n",
       "    <tr>\n",
       "      <th>11909</th>\n",
       "      <td>scar city</td>\n",
       "      <td>Action</td>\n",
       "    </tr>\n",
       "    <tr>\n",
       "      <th>...</th>\n",
       "      <td>...</td>\n",
       "      <td>...</td>\n",
       "    </tr>\n",
       "    <tr>\n",
       "      <th>17587</th>\n",
       "      <td>cyborg 2087</td>\n",
       "      <td>Fantasy</td>\n",
       "    </tr>\n",
       "    <tr>\n",
       "      <th>3486</th>\n",
       "      <td>the magic of lassie</td>\n",
       "      <td>Adventure</td>\n",
       "    </tr>\n",
       "    <tr>\n",
       "      <th>11212</th>\n",
       "      <td>the big hit</td>\n",
       "      <td>Action</td>\n",
       "    </tr>\n",
       "    <tr>\n",
       "      <th>22352</th>\n",
       "      <td>crash and burn</td>\n",
       "      <td>Action</td>\n",
       "    </tr>\n",
       "    <tr>\n",
       "      <th>26444</th>\n",
       "      <td>stolen</td>\n",
       "      <td>Action</td>\n",
       "    </tr>\n",
       "  </tbody>\n",
       "</table>\n",
       "<p>3249 rows × 2 columns</p>\n",
       "</div>"
      ],
      "text/plain": [
       "                     title      genre\n",
       "608            hello again    Fantasy\n",
       "30970                  air    Fantasy\n",
       "18489   best of the best 2     Action\n",
       "26360               looper     Action\n",
       "11909            scar city     Action\n",
       "...                    ...        ...\n",
       "17587          cyborg 2087    Fantasy\n",
       "3486   the magic of lassie  Adventure\n",
       "11212          the big hit     Action\n",
       "22352       crash and burn     Action\n",
       "26444               stolen     Action\n",
       "\n",
       "[3249 rows x 2 columns]"
      ]
     },
     "execution_count": 4,
     "metadata": {},
     "output_type": "execute_result"
    }
   ],
   "source": [
    "df = pd.read_csv('data.csv')  #Load full csv\n",
    "df = df[df['country'] == 'United States'] #Country == United States\n",
    "df = df[df['genre'].isin(['Action','Horror','Fantasy','Western','Adventure'])] #Filter genre\n",
    "df = df[df['title'].str.len() < 21] # Title does not have more than 20 characters\n",
    "df['title'] = df['title'].apply(lambda s: s.lower()) #Set all titles to lowercase\n",
    "df = df[['title','genre']] # Only title and genre columns are needed\n",
    "\n",
    "\n",
    "df = df.sample(frac=1) #Shuffle dataset\n",
    "df.to_csv('filtered_data.csv', index=False)\n",
    "df"
   ]
  },
  {
   "cell_type": "markdown",
   "id": "448acbaa",
   "metadata": {},
   "source": [
    "Split the filtered data into 80% train, 10% validation, and 10% test.\n",
    "You will only need the title and genre columns."
   ]
  },
  {
   "cell_type": "code",
   "execution_count": 5,
   "id": "ec1fca47",
   "metadata": {
    "ExecuteTime": {
     "end_time": "2022-12-15T21:55:32.909015Z",
     "start_time": "2022-12-15T21:55:32.888640Z"
    }
   },
   "outputs": [],
   "source": [
    "#df = pd.read_csv('filtered_data.csv')\n",
    "\n",
    "#Train = 80%, Other = 20%\n",
    "train_x, other_x, train_y, other_y = sklearn.model_selection.train_test_split(df['title'],df['genre'],\n",
    "                                                             test_size=0.2, random_state=1)\n",
    "\n",
    "\n",
    "#Split other in half -> [Train = 80%, Val = 10%, Test = 10%]\n",
    "val_x, test_x, val_y, test_y = sklearn.model_selection.train_test_split(other_x, other_y,\n",
    "                                                       test_size=0.5, random_state=1)\n",
    "\n"
   ]
  },
  {
   "cell_type": "markdown",
   "id": "304d5332",
   "metadata": {},
   "source": [
    "From your processed data set, display:\n",
    "\n",
    "* the amount of movies in each genre and split\n",
    "* 5 examples of movie titles from each genre and split"
   ]
  },
  {
   "cell_type": "code",
   "execution_count": 6,
   "id": "c5e8adf7",
   "metadata": {
    "ExecuteTime": {
     "end_time": "2022-12-15T21:55:34.277629Z",
     "start_time": "2022-12-15T21:55:34.257035Z"
    }
   },
   "outputs": [
    {
     "name": "stdout",
     "output_type": "stream",
     "text": [
      "Amount of Movies in Training Set:\n",
      "Action       712\n",
      "Horror       643\n",
      "Fantasy      437\n",
      "Western      434\n",
      "Adventure    373\n",
      "Name: genre, dtype: int64\n",
      "\n",
      "Amount of Movies in Validation Set:\n",
      "Horror       92\n",
      "Action       86\n",
      "Fantasy      53\n",
      "Western      50\n",
      "Adventure    44\n",
      "Name: genre, dtype: int64\n",
      "\n",
      "Amount of Movies in Testing Set:\n",
      "Action       90\n",
      "Horror       83\n",
      "Western      53\n",
      "Fantasy      52\n",
      "Adventure    47\n",
      "Name: genre, dtype: int64\n"
     ]
    }
   ],
   "source": [
    "print('Amount of Movies in Training Set:')\n",
    "print(train_y.value_counts())\n",
    "\n",
    "print('\\nAmount of Movies in Validation Set:')\n",
    "print(val_y.value_counts())\n",
    "\n",
    "print('\\nAmount of Movies in Testing Set:')\n",
    "print(test_y.value_counts())"
   ]
  },
  {
   "cell_type": "code",
   "execution_count": 7,
   "id": "4984a2d2",
   "metadata": {
    "ExecuteTime": {
     "end_time": "2022-12-15T21:55:35.664925Z",
     "start_time": "2022-12-15T21:55:35.632923Z"
    },
    "collapsed": true
   },
   "outputs": [
    {
     "name": "stdout",
     "output_type": "stream",
     "text": [
      "5 Random Action movies from each split:\n",
      "Train:['defiance ', 'ninja assassin', 'jason bourne', 'bushwick', 'die hard 2']\n",
      "\n",
      "Validate:['white fury', 'project eliminator', 'out for a kill', 'unhinged', 'double team']\n",
      "\n",
      "Test:['hero and the terror', 'icebreaker', 'maximum risk', 'rollover', 'airline disaster']\n",
      "\n",
      "\n",
      "\n",
      "=================================\n",
      "\n",
      "5 Random Horror movies from each split:\n",
      "Train:['cabin fever', 'fear street: 1666', 'the babysitter', \"child's play\", 'rogue river']\n",
      "\n",
      "Validate:['nothing left to fear', \"you'll find out\", \"the mummy's hand\", 'mercy', 'wishmaster']\n",
      "\n",
      "Test:['the hills have eyes', 'amusement', 'dead season', 'dream cruise', 'scream 2']\n",
      "\n",
      "\n",
      "\n",
      "=================================\n",
      "\n",
      "5 Random Fantasy movies from each split:\n",
      "Train:['flying virus', 'southland tales', 'firestarter', 'war of the worlds', 'dna']\n",
      "\n",
      "Validate:['pixels', 'wild in the street', 'skyrunners', 'teenage monster', 'robocop']\n",
      "\n",
      "Test:['laserblast', 'artemis fowl', 'starship troopers', 'the ewok adventure', 'earth vs. the spider']\n",
      "\n",
      "\n",
      "\n",
      "=================================\n",
      "\n",
      "5 Random Western movies from each split:\n",
      "Train:['the rare breed', 'a man alone', 'gun brothers', 'the texas rangers', 'the lawless range']\n",
      "\n",
      "Validate:['raton pass', 'the deadly trackers', 'the desperadoes', 'tall in the saddle', 'the longhorns']\n",
      "\n",
      "Test:['the kid from texas', 'johnny reno', 'junior bonner', 'pocket money', 'pony soldier']\n",
      "\n",
      "\n",
      "\n",
      "=================================\n",
      "\n",
      "5 Random Adventure movies from each split:\n",
      "Train:['the magic of lassie', 'florida straits', 'saving flora', 'québec', 'the african queen']\n",
      "\n",
      "Validate:['beyond the stars', 'season of the witch', 'the four feathers', 'river of no return', 'rob roy']\n",
      "\n",
      "Test:['cabin boy', 'the hunters', 'hidalgo', 'timeline', 'the scorpion king']\n",
      "\n",
      "\n",
      "\n",
      "=================================\n",
      "\n"
     ]
    }
   ],
   "source": [
    "train = pd.DataFrame(columns=['title'], data=train_x)\n",
    "train['genre'] = train_y\n",
    "\n",
    "val = pd.DataFrame(columns=['title'], data=val_x)\n",
    "val['genre'] = val_y\n",
    "\n",
    "test = pd.DataFrame(columns=['title'], data=test_x)\n",
    "test['genre'] = test_y\n",
    "\n",
    "for genre in ['Action','Horror','Fantasy','Western','Adventure']:  \n",
    "    print(f'5 Random {genre} movies from each split:')\n",
    "    \n",
    "    print(f\"Train:{list(train[train['genre']==genre]['title'].sample(n=5).apply(lambda s: ''.join(s)))}\\n\")\n",
    "    print(f\"Validate:{list(val[val['genre']==genre]['title'].sample(n=5).apply(lambda s: ''.join(s)))}\\n\")    \n",
    "    print(f\"Test:{list(test[test['genre']==genre]['title'].sample(n=5).apply(lambda s: ''.join(s)))}\\n\")\n",
    "    \n",
    "    print('\\n\\n=================================\\n')\n",
    "    "
   ]
  },
  {
   "cell_type": "markdown",
   "id": "8c1240be",
   "metadata": {},
   "source": [
    "## Title classification (25%)\n",
    "\n",
    "Your first task is to prove that a neural network can identify the genre of a movie based on its title.\n",
    "\n",
    "You will note that many titles are just a single word or two words long so you need to work at the character level instead of the word level, that is, a token would be a single character, including punctuation marks and spaces.\n",
    "You must also lowercase the titles.\n",
    "Preprocess the data sets, create a neural network, and train it to classify the movie titles into their genre.\n",
    "Plot a graph of the **accuracy** of the model on the train and validation sets after each epoch."
   ]
  },
  {
   "cell_type": "code",
   "execution_count": 8,
   "id": "95ac75bd",
   "metadata": {
    "ExecuteTime": {
     "end_time": "2022-12-15T21:55:41.246403Z",
     "start_time": "2022-12-15T21:55:39.441644Z"
    },
    "code_folding": [],
    "scrolled": false
   },
   "outputs": [],
   "source": [
    "# Tokenise each character.\n",
    "train_x = train_x.apply(lambda s: [*s])\n",
    "val_x = val_x.apply(lambda s: [*s])\n",
    "test_x = test_x.apply(lambda s: [*s])\n",
    "\n",
    "# Get the lengths of each title.\n",
    "train_lens_x = torch.tensor([len(title) for title in train_x],\n",
    "                            dtype=torch.int64, device=device)\n",
    "val_lens_x = torch.tensor([len(title) for title in val_x],\n",
    "                          dtype=torch.int64, device=device)\n",
    "test_lens_x = torch.tensor([len(title) for title in test_x],\n",
    "                           dtype=torch.int64, device=device)\n",
    "\n",
    "# Get the maximum length of a title.\n",
    "train_max_len = max(train_lens_x)\n",
    "val_max_len = max(val_lens_x)\n",
    "test_max_len = max(test_lens_x)\n",
    "\n",
    "# Create the vocabulary on the training set\n",
    "# And Replace characters that appear less than 3 times with <UNK>\n",
    "freq = collections.Counter(token for title in train_x for token in title)\n",
    "vocab = ['<PAD>'] + sorted([token if freq[token] >\n",
    "                           3 else '<UNK>' for token in freq.keys()])\n",
    "\n",
    "#Return <UNK> index if the token is not in the vocabulary\n",
    "v_idx = lambda t: vocab.index(['<UNK>',t][t in vocab])\n",
    "\n",
    "# Pad the titles to max_len characters using <PAD> tokens.\n",
    "padded_train_x = [sent + ['<PAD>'] *\n",
    "                  (train_max_len - len(sent)) for sent in train_x]\n",
    "padded_val_x = [sent + ['<PAD>']*(val_max_len - len(sent)) for sent in val_x]\n",
    "padded_test_x = [sent + ['<PAD>'] *\n",
    "                 (test_max_len - len(sent)) for sent in test_x]\n",
    "\n",
    "# Replace each character with its index in the vocabulary.\n",
    "indexed_train_x = torch.tensor([[v_idx(token) for token in title]\n",
    "                               for title in padded_train_x],\n",
    "                               dtype=torch.int64, device=device)\n",
    "indexed_val_x   = torch.tensor([[v_idx(token) for token in title]\n",
    "                               for title in padded_val_x],\n",
    "                               dtype=torch.int64, device=device)\n",
    "indexed_test_x  = torch.tensor([[v_idx(token) for token in title]\n",
    "                                for title in padded_test_x],\n",
    "                               dtype=torch.int64, device=device)\n",
    "\n",
    "\n",
    "categories = ['Action', 'Horror', 'Fantasy', 'Western', 'Adventure']\n",
    "cat2idx = {cat: i for (i, cat) in enumerate(categories)}\n",
    "\n",
    "\n",
    "# Index Encoded train_y\n",
    "indexed_train_y = torch.tensor(train_y.map(cat2idx.get).to_numpy()[:, None],\n",
    "                               dtype=torch.int64, device=device)\n",
    "\n",
    "\n",
    "\n",
    "# Index Encoded val_y\n",
    "indexed_val_y = torch.tensor(val_y.map(cat2idx.get).to_numpy()[:, None],\n",
    "                             dtype=torch.int64, device=device)\n",
    "\n",
    "#Index Encoded test_y\n",
    "indexed_test_y = torch.tensor(test_y.map(cat2idx.get).to_numpy()[:, None],\n",
    "                              dtype=torch.int64, device=device)\n"
   ]
  },
  {
   "cell_type": "code",
   "execution_count": 9,
   "id": "24bf938d",
   "metadata": {
    "ExecuteTime": {
     "end_time": "2022-12-15T21:55:41.262401Z",
     "start_time": "2022-12-15T21:55:41.247402Z"
    },
    "code_folding": []
   },
   "outputs": [],
   "source": [
    "class Model(torch.nn.Module):\n",
    "\n",
    "    def __init__(self, vocab_size, embedding_size, hidden_size, num_classes):\n",
    "        super().__init__()\n",
    "        self.hidden_size = hidden_size\n",
    "        self.embedding_layer = torch.nn.Embedding(vocab_size, embedding_size)\n",
    "\n",
    "        self.rnn_s0 = torch.nn.Parameter(\n",
    "            torch.zeros((hidden_size,), dtype=torch.float32))\n",
    "        self.rnn_c0 = torch.nn.Parameter(\n",
    "            torch.zeros((hidden_size,), dtype=torch.float32))\n",
    "        self.rnn_cell = torch.nn.LSTMCell(\n",
    "            embedding_size, hidden_size, device=device)\n",
    "        self.output_layer = torch.nn.Linear(hidden_size, num_classes)\n",
    "\n",
    "    def forward(self, x, text_lens):\n",
    "        batch_size = x.shape[0]  # Number of Titles\n",
    "        time_steps = x.shape[1]  # Number of Characters (20)\n",
    "\n",
    "        embedded = self.embedding_layer(x)\n",
    "        state = self.rnn_s0.unsqueeze(0).tile((batch_size, 1))\n",
    "        c = self.rnn_c0.unsqueeze(0).tile((batch_size, 1))\n",
    "\n",
    "        for t in range(time_steps):\n",
    "            mask = (t < text_lens).unsqueeze(1).tile((1, self.hidden_size))\n",
    "            (next_state, c) = self.rnn_cell(embedded[:, t, :], (state, c))\n",
    "            state = torch.where(mask, next_state, state)\n",
    "\n",
    "        return self.output_layer(state)"
   ]
  },
  {
   "cell_type": "code",
   "execution_count": 10,
   "id": "964a4cf6",
   "metadata": {
    "ExecuteTime": {
     "end_time": "2022-12-15T21:56:42.958935Z",
     "start_time": "2022-12-15T21:55:45.216634Z"
    },
    "code_folding": [
     9
    ]
   },
   "outputs": [
    {
     "name": "stdout",
     "output_type": "stream",
     "text": [
      "step error\n",
      "999\r"
     ]
    }
   ],
   "source": [
    "model = Model(len(vocab), embedding_size=256,\n",
    "              hidden_size=256, num_classes=len(categories))\n",
    "model.to(device)\n",
    "\n",
    "optimiser = torch.optim.AdamW(model.parameters())\n",
    "\n",
    "print('step', 'error')\n",
    "history = []\n",
    "\n",
    "for step in range(1, 1000):\n",
    "    optimiser.zero_grad()\n",
    "    output = model(indexed_train_x, train_lens_x)\n",
    "    error = torch.nn.functional.cross_entropy(\n",
    "        output, indexed_train_y.squeeze(1)) \n",
    "    error.backward()\n",
    "    optimiser.step()\n",
    "\n",
    "    print(step, end='\\r')\n",
    "    # Calculate accuracy after every epoch\n",
    "    with torch.no_grad():\n",
    "        prediction = model(indexed_val_x, val_lens_x).argmax(axis=1).cpu()\n",
    "        actual = indexed_val_y.squeeze(1).cpu()\n",
    "\n",
    "        val_accuracy = sklearn.metrics.accuracy_score(prediction, actual)\n",
    "        train_accuracy = sklearn.metrics.accuracy_score(\n",
    "            output.argmax(axis=1).cpu(), indexed_train_y.squeeze(1).cpu())\n",
    "\n",
    "    # Track accuracy over time\n",
    "    history.append(\n",
    "        (step, train_accuracy, val_accuracy))\n",
    "\n",
    "#     print(step, round(train_accuracy,4),round(val_accuracy,4))"
   ]
  },
  {
   "cell_type": "code",
   "execution_count": 11,
   "id": "18468b13",
   "metadata": {
    "ExecuteTime": {
     "end_time": "2022-12-15T21:57:34.375944Z",
     "start_time": "2022-12-15T21:57:33.999039Z"
    }
   },
   "outputs": [
    {
     "data": {
      "image/png": "[encoded data removed]",
      "text/plain": [
       "<Figure size 640x480 with 1 Axes>"
      ]
     },
     "metadata": {},
     "output_type": "display_data"
    }
   ],
   "source": [
    "import seaborn as sns\n",
    "\n",
    "\n",
    "history = pd.DataFrame(\n",
    "    history, columns=['Epoch', 'Train Accuracy', 'Validation Accuracy'])\n",
    "\n",
    "\n",
    "(fig, ax) = plt.subplots(1, 1)\n",
    "ax.set_xlabel('Epoch')\n",
    "ax.set_ylabel('$Accuracy$')\n",
    "ax.plot(history['Epoch'],history['Train Accuracy'])\n",
    "ax.plot(history['Epoch'],history['Validation Accuracy'])\n",
    "\n",
    "plt.show()"
   ]
  },
  {
   "cell_type": "code",
   "execution_count": 22,
   "id": "70635d74",
   "metadata": {
    "ExecuteTime": {
     "end_time": "2022-12-15T22:02:13.315331Z",
     "start_time": "2022-12-15T22:02:12.867026Z"
    }
   },
   "outputs": [
    {
     "data": {
      "image/png": "[encoded data removed]",
      "text/plain": [
       "<Figure size 640x480 with 2 Axes>"
      ]
     },
     "metadata": {},
     "output_type": "display_data"
    },
    {
     "name": "stdout",
     "output_type": "stream",
     "text": [
      "Accuracy:\t0.360\n",
      "Precision:\t0.353\n",
      "Recall:  \t0.359\n",
      "F1 Score:\t0.355\n",
      "\n"
     ]
    }
   ],
   "source": [
    "with torch.no_grad():\n",
    "    outputs = torch.softmax(\n",
    "        model(indexed_test_x, test_lens_x), dim=1).cpu().numpy().argmax(axis=1)\n",
    "\n",
    "actual    = indexed_test_y.cpu()\n",
    "prediction = outputs\n",
    "\n",
    "cm = sklearn.metrics.confusion_matrix(actual, outputs)\n",
    "count      = [\"{0:0.0f}\".format(v) for v in cm.flatten()]\n",
    "percentage = [\"{0:.2%}\".format(v) for v in cm.flatten()/np.sum(cm)]\n",
    "labels = np.asarray([f\"{v1}\\n{v2}\" for v1, v2 in\n",
    "          zip(count,percentage)]).reshape(5,5)\n",
    "\n",
    "\n",
    "disp = sklearn.metrics.ConfusionMatrixDisplay(confusion_matrix=cm,\n",
    "                                             display_labels=cat2idx.keys())\n",
    "disp.plot()\n",
    "plt.show()\n",
    "\n",
    "#Generate Accuracy, Precision, Recall, F1 Score   \n",
    "print('Accuracy:\\t%.3f'%  sklearn.metrics.accuracy_score (prediction, actual))\n",
    "print('Precision:\\t%.3f'% sklearn.metrics.precision_score(prediction, actual, average='macro'))\n",
    "print('Recall:  \\t%.3f'%  sklearn.metrics.recall_score   (prediction, actual, average='macro'))\n",
    "print('F1 Score:\\t%.3f'%  sklearn.metrics.f1_score       (prediction, actual, average='macro'))\n",
    "print()"
   ]
  },
  {
   "cell_type": "markdown",
   "id": "f53265d7",
   "metadata": {},
   "source": [
    "Measure the F1 score performance of the model when applied on the test set.\n",
    "Also plot a confusion matrix showing how often each genre is mistaken as another genre."
   ]
  },
  {
   "cell_type": "markdown",
   "id": "885c811f",
   "metadata": {},
   "source": [
    "## Title generation (25%)\n",
    "\n",
    "Now that you've proven that titles and genre are related, make a model that can generate a title given a genre.\n",
    "\n",
    "Again, you need to generate tokens at the character level instead of the word level and the titles must be lowercased.\n",
    "Preprocess the data sets, create a neural network, and train it to generate the movie titles given their genre.\n",
    "Plot a graph of the **perplexity** of the model on the train and validation sets after each epoch."
   ]
  },
  {
   "cell_type": "code",
   "execution_count": 23,
   "id": "89209908",
   "metadata": {
    "ExecuteTime": {
     "end_time": "2022-12-15T22:10:19.813674Z",
     "start_time": "2022-12-15T22:10:18.254674Z"
    },
    "code_folding": []
   },
   "outputs": [],
   "source": [
    "# Get all titles\n",
    "titles = df['title']\n",
    "genres = df['genre']\n",
    "\n",
    "# Tokenise every character\n",
    "titles = titles.apply(lambda s: [*s])\n",
    "\n",
    "# Split into Train (80%), Validate (10%), Test (10%)\n",
    "\n",
    "# Train = 80%, Other = 20%\n",
    "train_titles, other_titles, train_genres, other_genres = \\\n",
    "    sklearn.model_selection.train_test_split(titles, genres,\n",
    "                                             test_size=0.2, random_state=1)\n",
    "\n",
    "# Split Other in half -> [Train = 80%, Val = 10%, Test = 10%]\n",
    "val_titles, test_titles, val_genres, test_genres = \\\n",
    "    sklearn.model_selection.train_test_split(other_titles, other_genres,\n",
    "                                             test_size=0.5, random_state=1)\n",
    "\n",
    "# Get Encoding of genres\n",
    "categories = ['Action', 'Horror', 'Fantasy', 'Western', 'Adventure']\n",
    "cat2idx = {cat: i for (i, cat) in enumerate(categories)}\n",
    "\n",
    "# Train Genres\n",
    "train_genres = torch.tensor(train_genres.map(cat2idx.get).to_numpy()[\n",
    "    :, None], dtype=torch.int64, device=device)\n",
    "train_genres = torch.nn.functional.one_hot(\n",
    "    train_genres[:, 0], num_classes=5).float()\n",
    "\n",
    "# Test Genres\n",
    "test_genres = torch.tensor(test_genres.map(cat2idx.get).to_numpy()[\n",
    "    :, None], dtype=torch.int64, device=device)\n",
    "test_genres = torch.nn.functional.one_hot(\n",
    "    test_genres[:, 0], num_classes=5).float()\n",
    "\n",
    "\n",
    "# Validate Genres\n",
    "val_genres = torch.tensor(val_genres.map(cat2idx.get).to_numpy()[\n",
    "    :, None], dtype=torch.int64, device=device)\n",
    "val_genres = torch.nn.functional.one_hot(\n",
    "    val_genres[:, 0], num_classes=5).float()\n",
    "\n",
    "\n",
    "# Get length of every title including the EDGE token\n",
    "train_title_lens = torch.tensor([len(t)+1 for t in train_titles],\n",
    "                                dtype=torch.int64, device=device)\n",
    "val_title_lens = torch.tensor([len(t)+1 for t in val_titles],\n",
    "                              dtype=torch.int64, device=device)\n",
    "test_title_lens = torch.tensor([len(t)+1 for t in test_titles],\n",
    "                               dtype=torch.int64, device=device)\n",
    "\n",
    "# Get maximum length of a title\n",
    "train_max_len = max(train_title_lens)\n",
    "val_max_len = max(val_title_lens)\n",
    "test_max_len = max(test_title_lens)\n",
    "\n",
    "\n",
    "# Create the vocabulary on the training set\n",
    "# And Replace characters that appear less than 3 times with <UNK>\n",
    "freq = collections.Counter(token for title in train_titles for token in title)\n",
    "vocab = ['<PAD>', '<EDGE>'] + \\\n",
    "    sorted([token if freq[token] > 3 else '<UNK>' for token in freq.keys()])\n",
    "\n",
    "# Return <UNK> index if the token is not in the vocabulary\n",
    "\n",
    "\n",
    "def v_idx(t): return vocab.index(['<UNK>', t][t in vocab])\n",
    "\n",
    "\n",
    "\n",
    "# Get train_x\n",
    "padded_train_x = [['<EDGE>']+t+['<PAD>']\n",
    "                  * (train_max_len-len(t)-1) for t in train_titles]\n",
    "indexed_train_x = torch.tensor(\n",
    "    [[v_idx(tok) for tok in t] for t in padded_train_x],\n",
    "    dtype=torch.int64, device=device)\n",
    "\n",
    "# Get train_y\n",
    "padded_train_y = [t+['<EDGE>']+['<PAD>']\n",
    "                  * (train_max_len-len(t) - 1) for t in train_titles]\n",
    "indexed_train_y = torch.tensor(\n",
    "    [[v_idx(tok) for tok in t] for t in padded_train_y],\n",
    "    dtype=torch.int64, device=device)\n",
    "\n",
    "\n",
    "# Get val_x\n",
    "padded_val_x = [['<EDGE>']+t+['<PAD>']\n",
    "                * (val_max_len-len(t)-1) for t in val_titles]\n",
    "indexed_val_x = torch.tensor(\n",
    "    [[v_idx(tok) for tok in t] for t in padded_val_x],\n",
    "    dtype=torch.int64, device=device)\n",
    "\n",
    "# Get val_y\n",
    "padded_val_y = [t+['<EDGE>']+['<PAD>']\n",
    "                * (val_max_len-len(t) - 1) for t in val_titles]\n",
    "indexed_val_y = torch.tensor(\n",
    "    [[v_idx(tok) for tok in t] for t in padded_val_y],\n",
    "    dtype=torch.int64, device=device)\n",
    "\n",
    "\n",
    "# Get test_x\n",
    "padded_test_x = [['<EDGE>']+t+['<PAD>']\n",
    "                 * (val_max_len-len(t)-1) for t in test_titles]\n",
    "indexed_test_x = torch.tensor(\n",
    "    [[v_idx(tok) for tok in t] for t in padded_test_x],\n",
    "    dtype=torch.int64, device=device)\n",
    "\n",
    "# Get test_y\n",
    "padded_test_y = [t+['<EDGE>']+['<PAD>']\n",
    "                 * (test_max_len-len(t) - 1) for t in test_titles]\n",
    "indexed_test_y = torch.tensor(\n",
    "    [[v_idx(tok) for tok in t] for t in padded_test_y],\n",
    "    dtype=torch.int64, device=device)"
   ]
  },
  {
   "cell_type": "code",
   "execution_count": 24,
   "id": "f2aa6465",
   "metadata": {
    "ExecuteTime": {
     "end_time": "2022-12-15T22:10:20.944444Z",
     "start_time": "2022-12-15T22:10:20.929433Z"
    },
    "code_folding": []
   },
   "outputs": [],
   "source": [
    "class Model(torch.nn.Module):\n",
    "\n",
    "    def __init__(self, cond_size, vocab_size, embedding_size, hidden_size):\n",
    "        super().__init__()\n",
    "\n",
    "        self.embedding_layer = torch.nn.Embedding(vocab_size, embedding_size)\n",
    "        \n",
    "        self.rnn_s0 = torch.nn.Parameter(\n",
    "            torch.zeros((hidden_size,), dtype=torch.float32))\n",
    "        self.rnn_c0 = torch.nn.Parameter(\n",
    "            torch.zeros((hidden_size,), dtype=torch.float32))\n",
    "        self.rnn_cell = torch.nn.LSTMCell(embedding_size, hidden_size)\n",
    "        \n",
    "        self.output_layer = torch.nn.Linear(cond_size+hidden_size, vocab_size)\n",
    "        \n",
    "        \n",
    "    def forward(self, cond, x):\n",
    "        batch_size = x.shape[0]\n",
    "        time_steps = x.shape[1]\n",
    "        \n",
    "        embedded = self.embedding_layer(x)\n",
    "        \n",
    "        state = self.rnn_s0.unsqueeze(0).tile((batch_size,1))\n",
    "        c = self.rnn_s0.unsqueeze(0).tile((batch_size,1)) #ERROR??\n",
    "        interm_states = []\n",
    "        \n",
    "        #Get intermediate states\n",
    "        for t in range(time_steps):\n",
    "            (state,c) = self.rnn_cell(embedded[:,t,:], (state,c))\n",
    "            interm_states.append(state)\n",
    "        interm_states = torch.stack(interm_states, dim=1)\n",
    "        \n",
    "        #Replicate the same conditioning vector for every character\n",
    "        cond_3d = cond.unsqueeze(1).tile((1, time_steps, 1))\n",
    "        \n",
    "        #Attach the replicated conditioning vector to the intermediate states\n",
    "        interm_states = torch.cat((cond_3d, interm_states), dim=2)\n",
    "        \n",
    "        return self.output_layer(interm_states)  "
   ]
  },
  {
   "cell_type": "code",
   "execution_count": 58,
   "id": "9f7c42b9",
   "metadata": {
    "ExecuteTime": {
     "end_time": "2022-12-15T22:36:25.104349Z",
     "start_time": "2022-12-15T22:35:41.963008Z"
    },
    "code_folding": [],
    "scrolled": true
   },
   "outputs": [
    {
     "name": "stdout",
     "output_type": "stream",
     "text": [
      "step error\n",
      "1000\n"
     ]
    }
   ],
   "source": [
    "model = Model(train_genres.shape[1], len(vocab),\n",
    "              embedding_size=256, hidden_size=64)\n",
    "model.to(device)\n",
    "\n",
    "optimiser = torch.optim.AdamW(model.parameters())\n",
    "\n",
    "print('step', 'error')\n",
    "train_errors = []\n",
    "batch_size = indexed_train_x.shape[0]\n",
    "time_steps = indexed_train_x.shape[1]\n",
    "\n",
    "mask = torch.zeros((batch_size, time_steps), dtype=torch.bool, device=device)\n",
    "for i in range(batch_size):\n",
    "    for j in range(time_steps):\n",
    "        if j >= train_title_lens[i]:\n",
    "            mask[i, j] = 1\n",
    "\n",
    "perplexity = []\n",
    "\n",
    "for step in range(1, 1_000+1):\n",
    "    optimiser.zero_grad()\n",
    "    output = model(train_genres, indexed_train_x)\n",
    "    errors = torch.nn.functional.cross_entropy(\n",
    "        output.transpose(1, 2), indexed_train_y, reduction='none')\n",
    "    errors = torch.masked_fill(errors, mask, 0.0)\n",
    "    error = errors.sum()/train_title_lens.sum()\n",
    "    error.backward()\n",
    "    optimiser.step()\n",
    "\n",
    "    # Calculate Perplexity\n",
    "\n",
    "    if step % 250 == 0:\n",
    "        with torch.no_grad():\n",
    "\n",
    "            # Train\n",
    "            outputs = torch.log_softmax(output, dim=2)\n",
    "            total_word_log_prob = 0.0\n",
    "            num_words = 0\n",
    "\n",
    "            for (sent, title_len, log_probs, y) in zip(titles, train_title_lens, outputs, indexed_train_y):\n",
    "                word_log_probs = log_probs[torch.arange(\n",
    "                    title_len), y[:title_len]]\n",
    "                total_word_log_prob += word_log_probs.sum().tolist()\n",
    "                num_words += title_len.tolist()\n",
    "\n",
    "            pplx_train = np.exp(-1/num_words*total_word_log_prob)\n",
    "\n",
    "            # Val\n",
    "            outputs = torch.log_softmax(\n",
    "                model(val_genres, indexed_val_x), dim=2)\n",
    "            total_word_log_prob = 0.0\n",
    "            num_words = 0\n",
    "\n",
    "            for (sent, title_len, log_probs, y) in zip(titles, val_title_lens, outputs, indexed_val_y):\n",
    "                word_log_probs = log_probs[torch.arange(\n",
    "                    title_len), y[:title_len]]\n",
    "                total_word_log_prob += word_log_probs.sum().tolist()\n",
    "                num_words += title_len.tolist()\n",
    "\n",
    "            pplx_val = np.exp(-1/num_words*total_word_log_prob)\n",
    "\n",
    "            perplexity.append((step, pplx_train, pplx_val))\n",
    "\n",
    "    print(step, end='\\r')\n",
    "\n",
    "    if step % 2_000 == 0:\n",
    "        print(step, error.tolist(), end='\\r')\n",
    "print()"
   ]
  },
  {
   "cell_type": "code",
   "execution_count": 59,
   "id": "533a82bc",
   "metadata": {
    "ExecuteTime": {
     "end_time": "2022-12-15T22:36:54.817357Z",
     "start_time": "2022-12-15T22:36:54.679969Z"
    },
    "code_folding": []
   },
   "outputs": [
    {
     "data": {
      "image/png": "[encoded data removed]",
      "text/plain": [
       "<Figure size 640x480 with 1 Axes>"
      ]
     },
     "metadata": {},
     "output_type": "display_data"
    }
   ],
   "source": [
    "history = pd.DataFrame(\n",
    "    perplexity, columns=['Epoch', 'Train Perplexity', 'Validation Perplexity'])\n",
    "\n",
    "(fig, ax) = plt.subplots(1, 1)\n",
    "\n",
    "ax.plot(history['Epoch'], history['Train Perplexity'])\n",
    "ax.plot(history['Epoch'], history['Validation Perplexity'])\n",
    "\n",
    "ax.set_xlabel('Epoch')\n",
    "ax.set_ylabel('$Perplexity$')\n",
    "\n",
    "plt.show()"
   ]
  },
  {
   "cell_type": "markdown",
   "id": "6ab5fe0d",
   "metadata": {},
   "source": [
    "Generate 3 titles for every genre.\n",
    "Make sure that the titles are not all the same."
   ]
  },
  {
   "cell_type": "code",
   "execution_count": 39,
   "id": "781104d9",
   "metadata": {
    "ExecuteTime": {
     "end_time": "2022-12-15T22:21:52.286793Z",
     "start_time": "2022-12-15T22:21:51.977764Z"
    },
    "code_folding": []
   },
   "outputs": [
    {
     "name": "stdout",
     "output_type": "stream",
     "text": [
      "Action: thre uaw 3frist\n",
      "Action: amboys\n",
      "Action: kill-enniver\n",
      "\n",
      "\n",
      "Horror: men in allowester\n",
      "Horror: gafly\n",
      "Horror: exp. revister\n",
      "\n",
      "\n",
      "Fantasy: pired\n",
      "Fantasy: the wolf the dravile\n",
      "Fantasy: lost of tuit\n",
      "\n",
      "\n",
      "Western: the sand\n",
      "Western: ponista\n",
      "Western: zomb hell\n",
      "\n",
      "\n",
      "Adventure: va atcth 2\n",
      "Adventure: the runce\n",
      "Adventure: hatklow\n"
     ]
    }
   ],
   "source": [
    "name_genre = [('Action',   [0,0,0,0,0]),('Action',   [0,0,0,0,0]),('Action',   [0,0,0,0,0]),\n",
    "              ('Horror',   [0,0,0,0,1]),('Horror',   [0,0,0,0,1]),('Horror',   [0,0,0,0,1]),\n",
    "              ('Fantasy',  [0,0,0,1,0]),('Fantasy',  [0,0,0,1,0]),('Fantasy',  [0,0,0,1,0]),\n",
    "              ('Western',  [0,0,1,0,0]),('Western',  [0,0,1,0,0]),('Western',  [0,0,1,0,0]),\n",
    "              ('Adventure',[0,1,0,0,0]),('Adventure',[0,1,0,0,0]),('Adventure',[0,1,0,0,0]),\n",
    "             ]\n",
    "with torch.no_grad():\n",
    "    for (i,(name, genre)) in enumerate(name_genre):\n",
    "        \n",
    "        genre = torch.tensor([genre], dtype=torch.float32, device=device)\n",
    "        prefix_indexes = [vocab.index('<EDGE>')]\n",
    "        \n",
    "        if i!=0 and i%3==0:print('\\n')\n",
    "            \n",
    "        #Start generating words\n",
    "        max_characters = 20\n",
    "        for _ in range(max_characters):\n",
    "            \n",
    "            prefix_tensor = torch.tensor(\n",
    "                [prefix_indexes], dtype=torch.int64, device=device)\n",
    "            \n",
    "            outputs = torch.softmax(model(genre, prefix_tensor), dim=2)\n",
    "            \n",
    "            char_probs = outputs[0, -1, :].cpu().numpy()\n",
    "            \n",
    "            #Set <UNK> probability to 0\n",
    "            char_probs[v_idx('<UNK>')] = 0\n",
    "            \n",
    "            #Get next character\n",
    "            next_char_index = random.choices(range(len(vocab)), char_probs)[0]\n",
    "            \n",
    "            #Stop when <EDGE> token is encountered\n",
    "            if next_char_index == vocab.index('<EDGE>'):\n",
    "                break\n",
    "            \n",
    "            prefix_indexes.append(next_char_index)\n",
    "            \n",
    "            \n",
    "        sent = [vocab[index] for index in prefix_indexes[1:]]\n",
    "        print(f\"{name}: {''.join(sent)}\")"
   ]
  },
  {
   "cell_type": "markdown",
   "id": "cc97665b",
   "metadata": {},
   "source": [
    "## Language models as classifiers (30%)\n",
    "\n",
    "It occurs to you that the movie title generator can also be used as a classifier by doing the following:\n",
    "\n",
    "* Let title $t$ be the title that you want to classify.\n",
    "* For every genre $g$,\n",
    "    * Use the generator as a language model to get the probability of $t$ (the whole title) using genre $g$.\n",
    "* Pick the genre that makes the language model give the largest probability.\n",
    "\n",
    "The producer is thrilled to not need two separate models and now you have to implement this.\n",
    "**Use the preprocessed test set from the previous task** in order to find the genre that makes the language model give the largest probability.\n",
    "There is no need to plot anything here."
   ]
  },
  {
   "cell_type": "code",
   "execution_count": 60,
   "id": "b50aed84",
   "metadata": {
    "ExecuteTime": {
     "end_time": "2022-12-15T22:37:05.773436Z",
     "start_time": "2022-12-15T22:37:04.837026Z"
    },
    "scrolled": true
   },
   "outputs": [],
   "source": [
    "name_genre = [('Action',   torch.tensor([[0,0,0,0,0]]*(len(indexed_test_x)), dtype=torch.float32, device=device)),\n",
    "              ('Horror',   torch.tensor([[0,0,0,0,1]]*(len(indexed_test_x)), dtype=torch.float32, device=device)),\n",
    "              ('Fantasy',  torch.tensor([[0,0,0,1,0]]*(len(indexed_test_x)), dtype=torch.float32, device=device)),\n",
    "              ('Western',  torch.tensor([[0,0,1,0,0]]*(len(indexed_test_x)), dtype=torch.float32, device=device)),\n",
    "              ('Adventure',torch.tensor([[0,1,0,0,0]]*(len(indexed_test_x)), dtype=torch.float32, device=device))]\n",
    "\n",
    "genre_probs = []\n",
    "\n",
    "#For every genre\n",
    "for name,genre in name_genre:\n",
    "    with torch.no_grad():\n",
    "        \n",
    "        #Get log probability of next character given every..\n",
    "        #..prefix of every title given the genre\n",
    "        outputs = torch.log_softmax(model(genre,indexed_test_x),\n",
    "                                    dim=2)\n",
    "        \n",
    "        title_probs = []\n",
    "        \n",
    "        #Get probability of whole sentence by summing up log probabilities \n",
    "        for (title_len, log_probs, y) in zip(test_title_lens, outputs, indexed_train_y):\n",
    "            char_log_probs = log_probs[torch.arange(title_len), y[:title_len]]\n",
    "            title_probs.append(torch.exp(char_log_probs.sum()))\n",
    "        \n",
    "        #Append probability of every title for this genre\n",
    "        genre_probs.append(title_probs)\n",
    "\n",
    "\n",
    "#Get most probable genre for every title\n",
    "genre_probs = torch.tensor(genre_probs, dtype=torch.float32, device=device).transpose(1,0)\n",
    "prediction = torch.argmax(genre_probs, axis=1).tolist()"
   ]
  },
  {
   "cell_type": "markdown",
   "id": "3841496d",
   "metadata": {},
   "source": [
    "Just like in the classification task, measure the F1 score and plot the confusion matrix of this new classifier."
   ]
  },
  {
   "cell_type": "code",
   "execution_count": 61,
   "id": "148060ad",
   "metadata": {
    "ExecuteTime": {
     "end_time": "2022-12-15T22:37:07.910471Z",
     "start_time": "2022-12-15T22:37:07.692439Z"
    }
   },
   "outputs": [
    {
     "data": {
      "image/png": "[encoded data removed]",
      "text/plain": [
       "<Figure size 640x480 with 2 Axes>"
      ]
     },
     "metadata": {},
     "output_type": "display_data"
    },
    {
     "name": "stdout",
     "output_type": "stream",
     "text": [
      "Accuracy:\t0.243\n",
      "Precision:\t0.226\n",
      "Recall:  \t0.231\n",
      "F1 Score:\t0.222\n",
      "\n"
     ]
    }
   ],
   "source": [
    "actual     = torch.argmax(test_genres.cpu(), dim=1).tolist()\n",
    "    \n",
    "cm = sklearn.metrics.confusion_matrix(actual, prediction)\n",
    "count      = [\"{0:0.0f}\".format(v) for v in cm.flatten()]\n",
    "percentage = [\"{0:.2%}\".format(v) for v in cm.flatten()/np.sum(cm)]\n",
    "labels = np.asarray([f\"{v1}\\n{v2}\" for v1, v2 in\n",
    "          zip(count,percentage)]).reshape(5,5)\n",
    "\n",
    "disp = sklearn.metrics.ConfusionMatrixDisplay(confusion_matrix=cm,\n",
    "                                             display_labels=cat2idx.keys())\n",
    "disp.plot()\n",
    "plt.show()\n",
    "\n",
    "#Generate Accuracy, Precision, Recall, F1 Score   \n",
    "print('Accuracy:\\t%.3f'%  sklearn.metrics.accuracy_score (prediction, actual))\n",
    "print('Precision:\\t%.3f'% sklearn.metrics.precision_score(prediction, actual, average='macro'))\n",
    "print('Recall:  \\t%.3f'%  sklearn.metrics.recall_score   (prediction, actual, average='macro'))\n",
    "print('F1 Score:\\t%.3f'%  sklearn.metrics.f1_score       (prediction, actual, average='macro'))\n",
    "print()"
   ]
  },
  {
   "cell_type": "markdown",
   "id": "b6399514",
   "metadata": {},
   "source": [
    "Write a paragraph or psuedo code to describe what your code above does."
   ]
  },
  {
   "cell_type": "code",
   "execution_count": 2,
   "id": "27a52774",
   "metadata": {
    "ExecuteTime": {
     "end_time": "2022-12-14T21:56:30.826980Z",
     "start_time": "2022-12-14T21:56:30.816950Z"
    }
   },
   "outputs": [
    {
     "data": {
      "text/plain": [
       "'\\ngenre_probabilities = []\\n\\nFor every genre g:\\n    title_probs = []\\n    \\n    Get the log probabilities of the next character given every\\n    prefix of every title given g\\n    \\n    title_probs = Get the probability of every title by summing up the individual log\\n    probabilities of the actual next character given the prefix, and then exponentiating it.\\n      \\n    genre_probabilities.append(title_probs)\\n    \\ntranspose genre_probabilities in order to get the different genre probability for every title\\n\\nchoose the highest probability outof the 5 genres for every title,\\nand let that be the predicted genre\\n\\n    \\n\\n'"
      ]
     },
     "execution_count": 2,
     "metadata": {},
     "output_type": "execute_result"
    }
   ],
   "source": [
    "'''\n",
    "genre_probabilities = []\n",
    "\n",
    "For every genre g:\n",
    "    title_probs = []\n",
    "    \n",
    "    Get the log probabilities of the next character given every\n",
    "    prefix of every title given g\n",
    "    \n",
    "    title_probs = Get the probability of every title by summing up the individual log\n",
    "    probabilities of the actual next character given the prefix, and then exponentiating it.\n",
    "      \n",
    "    genre_probabilities.append(title_probs)\n",
    "    \n",
    "transpose genre_probabilities in order to get the different genre probability for every title\n",
    "\n",
    "choose the highest probability outof the 5 genres for every title,\n",
    "and let that be the predicted genre\n",
    "'''"
   ]
  },
  {
   "cell_type": "markdown",
   "id": "0f5888e6",
   "metadata": {},
   "source": [
    "## Conclusion (10%)\n",
    "\n",
    "The producer's funders are asking for a report about this new technology they invested in.\n",
    "In 300 words, write your interpretation of the results together with what you think could make the model perform better."
   ]
  },
  {
   "cell_type": "code",
   "execution_count": 7,
   "id": "a3b0fa26",
   "metadata": {
    "ExecuteTime": {
     "end_time": "2022-12-14T22:51:33.971091Z",
     "start_time": "2022-12-14T22:51:33.959162Z"
    }
   },
   "outputs": [
    {
     "data": {
      "text/plain": [
       "\"\\nThe first task was achieved by embedding the titles into hidden vectors, which are fed to an LSTM. The\\naccuracy of model was ~37.5% which is better than uniform probability (20%). However this means that given a title \\nto classify, the most probable outcome meant that the model mispredicted. Moreover, the current hyper-parameters\\nproduced the best results. Attention could be integrated into the model as it has seen recent success for text\\nprocessing. Certain strings of characters could be clear indicators of the title's genre.\\n\\nThe second task was also achieved by using LSTMs. The model was more keen to overfitting, as the validation\\nperplexity would shoot upwards the bigger the embedding_size, hidden_size, and epochs. The current hyper-parameters\\nwere discovered through experimentation, such that both train and validation perplexity are low. The model clearly\\nlearned the use of the word 'the' and 'of'. However, it could not produce orthographically correct english words.\\nThis is hard as the model processes one character at a time, and due to the complexity of the English language,\\nmany different characters can follow a given prefix to make up a word. Using a larger dataset, and processing whole\\nwords, will remove made-up words.\\n\\nThe third task acted like a classifier by predicting the rest of the title given its current known prefix. The model\\nachieved poorer performance when compared to task 1 and had a tendency to classify almost everything as 'Action'. If the producers wish to not re-train a model for classification, both the dataset \\nand model need to be larger. Seq2seq models should be researched for title generation, which might in turn produce\\nbetter classifcation results using the above method.\\n\\nTo conclude, a better model could be achieved by using a better quality datasets,\\nand using attention-based tehcniques such as Transformers.\\n\\n\""
      ]
     },
     "execution_count": 7,
     "metadata": {},
     "output_type": "execute_result"
    }
   ],
   "source": [
    "'''\n",
    "The first task was achieved by embedding the titles into hidden vectors, which are fed to an LSTM. The\n",
    "accuracy of model was ~37.5% which is better than uniform probability (20%). However this means that given a title \n",
    "to classify, the most probable outcome meant that the model mispredicted. The current hyper-parameters\n",
    "produced the best results through experimentation. Attention could be integrated into the model as it has\n",
    "seen recent success for text-processing. Strings of characters could be clear indicators of the title's genre.\n",
    "\n",
    "The second task was also achieved by using LSTMs. The model was more keen to overfitting, as the validation\n",
    "perplexity would shoot upwards the bigger the embedding_size, hidden_size, and epochs. The current hyper-parameters\n",
    "were discovered through experimentation, such that both train and validation perplexity are low. The model clearly\n",
    "learned the use of the word 'the' and 'of'. However, it could not produce orthographically correct english words.\n",
    "This is hard as the model processes one character at a time, and due to the complexity of the English language,\n",
    "many different characters can follow a given prefix to make up a word. Using a larger dataset, and processing whole\n",
    "words, will remove made-up words.\n",
    "\n",
    "The third task acted like a classifier by predicting the next character given its current known prefix. The model\n",
    "achieved poorer performance when compared to task 1 and had a tendency to classify almost everything as 'Action'.\n",
    "If the producers wish to not re-train a model for classification, both the dataset and model need to be larger.\n",
    "Seq2seq models should be researched for title generation, which might in turn produce better classifcation\n",
    "results using the above method.\n",
    "\n",
    "To conclude, a better model could be achieved by using a better quality datasets,\n",
    "and using attention-based tehcniques such as Transformers.\n",
    "\n",
    "'''"
   ]
  }
 ],
 "metadata": {
  "kernelspec": {
   "display_name": "Python 3 (ipykernel)",
   "language": "python",
   "name": "python3"
  },
  "language_info": {
   "codemirror_mode": {
    "name": "ipython",
    "version": 3
   },
   "file_extension": ".py",
   "mimetype": "text/x-python",
   "name": "python",
   "nbconvert_exporter": "python",
   "pygments_lexer": "ipython3",
   "version": "3.9.7"
  },
  "toc": {
   "base_numbering": 1,
   "nav_menu": {},
   "number_sections": true,
   "sideBar": true,
   "skip_h1_title": false,
   "title_cell": "Table of Contents",
   "title_sidebar": "Contents",
   "toc_cell": false,
   "toc_position": {},
   "toc_section_display": true,
   "toc_window_display": false
  }
 },
 "nbformat": 4,
 "nbformat_minor": 5
}
